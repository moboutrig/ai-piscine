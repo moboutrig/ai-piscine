{
 "metadata": {
  "language_info": {
   "codemirror_mode": {
    "name": "ipython",
    "version": 3
   },
   "file_extension": ".py",
   "mimetype": "text/x-python",
   "name": "python",
   "nbconvert_exporter": "python",
   "pygments_lexer": "ipython3",
   "version": "3.6.9"
  },
  "orig_nbformat": 2,
  "kernelspec": {
   "name": "python369jvsc74a57bd031f2aee4e71d21fbe5cf8b01ff0e069b9275f58929596ceb00d14d90e3e16cd6",
   "display_name": "Python 3.6.9 64-bit"
  },
  "metadata": {
   "interpreter": {
    "hash": "31f2aee4e71d21fbe5cf8b01ff0e069b9275f58929596ceb00d14d90e3e16cd6"
   }
  }
 },
 "nbformat": 4,
 "nbformat_minor": 2,
 "cells": [
  {
   "source": [
    "# Exercise 1 The neuron\n",
    "\n",
    "The goal of this exercise is to understand the role of a neuron and to implement a neuron.\n",
    "\n",
    "An artificial neuron, the basic unit of the neural network, (also referred to as a perceptron) is a mathematical function. It takes one or more inputs that are multiplied by values called “weights” and added together. This value is then passed to a non-linear function, known as an activation function, to become the neuron’s output.\n",
    "\n",
    "As desbribed in the article, **a neuron takes inputs, does some math with them, and produces one output**.\n",
    "\n",
    "Let us assume there are 2 inputs. Here are the three steps involved in the neuron:\n",
    "\n",
    "1. Each input is multiplied by a weight:\n",
    "    - `x1 -> x1 * w1`\n",
    "    - `x2 -> x2 * w2`\n",
    "\n",
    "2. The weighted inputs are added together with a biais b:\n",
    "    - `(x1 * w1) + (x2 * w2) + b`\n",
    "\n",
    "3. The sum is passed through an activation function:\n",
    "    - `y = f((x1 * w1) + (x2 * w2) + b)`\n",
    "    - The activation function is a function you know from W2DAY2 (Logistic Regression): **the sigmoid**\n",
    "\n",
    "Example:\n",
    "\n",
    "x1 = 2 , x2 = 3 , w1 = 0, w2= 1, b = 4\n",
    "\n",
    "1. Step 1: Multiply by a weight\n",
    "    - `x1 -> 2 * 0 = 0`\n",
    "    - `x2 -> 3 * 1 = 3`\n",
    "\n",
    "2. Step 2: Add weigthed inputs and bias\n",
    "    - `0 + 3 + 4 = 7`\n",
    "\n",
    "3. Step 3: Activation function\n",
    "    - `y = f(7) = 0.999`\n",
    "\n",
    "---\n",
    "\n",
    "1. Implement a the function feedforward of the class `Neuron` that takes as input the inputs (x1, x2) and that uses the attributes: the weights and the biais to return y:\n",
    "\n",
    "```python\n",
    "class Neuron:\n",
    "def __init__(self, weight1, weight2, bias):\n",
    "    self.weights_1 = weight1\n",
    "    self.weights_2 = weight2\n",
    "    self.bias = bias\n",
    "\n",
    "def feedforward(self, x1, x2):\n",
    "    #TODO\n",
    "    return y\n",
    "```\n",
    "\n",
    "Note: if you are comfortable with matrix multiplication, feel free to vectorize the operations as done in the article.\n",
    "\n",
    "https://victorzhou.com/blog/intro-to-neural-networks/\n"
   ],
   "cell_type": "markdown",
   "metadata": {}
  },
  {
   "cell_type": "code",
   "execution_count": 3,
   "metadata": {},
   "outputs": [
    {
     "output_type": "stream",
     "name": "stdout",
     "text": [
      "0.9990889488055994\n"
     ]
    }
   ],
   "source": [
    "import numpy as np\n",
    "# create a class called neuron, this as the name says will be your neuron\n",
    "# it will be used matric multiplicaion\n",
    "\n",
    "def sigmoid(x):\n",
    "  # sigmoid -> activation function: f(x) = 1 / (1 + e^(-x))\n",
    "  return 1 / (1 + np.exp(-x))\n",
    "\n",
    "class Neuron:\n",
    "    def __init__(self, weights, bias):\n",
    "        self.weights= weights\n",
    "        self.bias= bias\n",
    "    def feedforward(self, inputs):\n",
    "        # first we multipli the values with their weight\n",
    "        # then add the bias\n",
    "        # then apply the function (sigmoid)\n",
    "        t = np.dot(self.weights, inputs) + self.bias\n",
    "        return sigmoid(t)\n",
    "\n",
    "neuron = Neuron(np.array([0,1]),4)\n",
    "print(neuron.feedforward(np.array([2,3])))\n"
   ]
  }
 ]
}