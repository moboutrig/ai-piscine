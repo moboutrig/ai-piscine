{
 "metadata": {
  "language_info": {
   "codemirror_mode": {
    "name": "ipython",
    "version": 3
   },
   "file_extension": ".py",
   "mimetype": "text/x-python",
   "name": "python",
   "nbconvert_exporter": "python",
   "pygments_lexer": "ipython3",
   "version": "3.6.9"
  },
  "orig_nbformat": 2,
  "kernelspec": {
   "name": "python369jvsc74a57bd031f2aee4e71d21fbe5cf8b01ff0e069b9275f58929596ceb00d14d90e3e16cd6",
   "display_name": "Python 3.6.9 64-bit"
  },
  "metadata": {
   "interpreter": {
    "hash": "31f2aee4e71d21fbe5cf8b01ff0e069b9275f58929596ceb00d14d90e3e16cd6"
   }
  }
 },
 "nbformat": 4,
 "nbformat_minor": 2,
 "cells": [
  {
   "source": [
    "\n",
    "# Exercise 4 Forward propagation\n",
    "\n",
    "The goal of this exercise is to compute the log loss on the output of the forward propagation. The data used is the tiny data set below.\n",
    "\n",
    "| name   |   math |   chemistry |   exam_success |\n",
    "|:-------|-------:|------------:|---------------:|\n",
    "| Bob    |     12 |          15 |              1 |\n",
    "| Eli    |     10 |           9 |              0 |\n",
    "| Tom    |     18 |          18 |              1 |\n",
    "| Ryan   |     13 |          14 |              1 |\n",
    "\n",
    "The goal if the network is to predict the success at the exam given math and chemistry grades. The inputs are `math` and `chemistry` and the target is `exam_sucess`.\n",
    "\n",
    "1. Compute and return the output of the neural network for each of the students. Here are the weights and biases of the neural network:\n",
    "\n",
    "```python\n",
    "neuron_h1 = Neuron(0.05, 0.001, 0)\n",
    "neuron_h2 = Neuron(0.02, 0.003, 0)\n",
    "neuron_o1 = Neuron(2,0,0)\n",
    "```\n",
    "\n",
    "2. Compute the `log_loss` for the data given the output of the neural network with the 4 students.\n"
   ],
   "cell_type": "markdown",
   "metadata": {}
  },
  {
   "source": [],
   "cell_type": "markdown",
   "metadata": {}
  },
  {
   "cell_type": "code",
   "execution_count": 5,
   "metadata": {},
   "outputs": [
    {
     "output_type": "stream",
     "name": "stdout",
     "text": [
      "Bob: 0.7855253278357536\nEli: 0.7771516558846259\nTom: 0.8067873659804015\nRyan: 0.7892343955586032\n-------------\n0.5485133607757963\n"
     ]
    }
   ],
   "source": [
    "import numpy as np\n",
    "from sklearn.metrics import log_loss\n",
    "\n",
    "# 1.\n",
    "def sigmoid(x):\n",
    "    return 1 / (1 + np.exp(-x))\n",
    "\n",
    "class Neuron:\n",
    "    def __init__(self, weights, bias):\n",
    "        self.weights = weights\n",
    "        self.bias = bias\n",
    "    \n",
    "    def feedforward(self, inputs):\n",
    "        return sigmoid(np.dot(self.weights, inputs) + self.bias)\n",
    "\n",
    "class NeuralNetwork:\n",
    "    def __init__(self, neuron_h1, neuron_h2, neuron_o1):\n",
    "        self.h1 = neuron_h1\n",
    "        self.h2 = neuron_h2\n",
    "        self.o1 = neuron_o1\n",
    "\n",
    "    def feedforward(self, inputs):\n",
    "        out_h1 = self.h1.feedforward(inputs)\n",
    "        out_h2 = self.h2.feedforward(inputs)\n",
    "        out_o1 = self.o1.feedforward(np.array([out_h1, out_h2]))\n",
    "        return out_o1\n",
    "\n",
    "neuron_h1 = Neuron(np.array([0.05, 0.001]), 0)\n",
    "neuron_h2 = Neuron(np.array([0.02, 0.003]), 0)\n",
    "neuron_o1 = Neuron(np.array([2,0]), 0)\n",
    "\n",
    "neural_network = NeuralNetwork(neuron_h1, neuron_h2, neuron_o1)\n",
    "\n",
    "# we now that the input will be the math and the chemistry notes\n",
    "Bob_pred = neural_network.feedforward(np.array([12, 15]))\n",
    "Eli_pred = neural_network.feedforward(np.array([10, 9]))\n",
    "Tom_pred = neural_network.feedforward(np.array([18, 18]))\n",
    "Ryan_pred = neural_network.feedforward(np.array([13, 14]))\n",
    "\n",
    "print('Bob:', Bob_pred)\n",
    "print('Eli:', Eli_pred)\n",
    "print('Tom:', Tom_pred)\n",
    "print('Ryan:', Ryan_pred)\n",
    "print('-------------')\n",
    "# 2.\n",
    "y_pred = np.array([Bob_pred, Eli_pred, Tom_pred, Ryan_pred])\n",
    "y_true = np.array([1, 0, 1, 1])\n",
    "\n",
    "# testing\n",
    "print(log_loss(y_true, y_pred))\n"
   ]
  }
 ]
}