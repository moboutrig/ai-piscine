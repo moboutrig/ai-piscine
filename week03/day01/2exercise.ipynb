{
 "metadata": {
  "language_info": {
   "codemirror_mode": {
    "name": "ipython",
    "version": 3
   },
   "file_extension": ".py",
   "mimetype": "text/x-python",
   "name": "python",
   "nbconvert_exporter": "python",
   "pygments_lexer": "ipython3",
   "version": "3.6.9"
  },
  "orig_nbformat": 2,
  "kernelspec": {
   "name": "python369jvsc74a57bd031f2aee4e71d21fbe5cf8b01ff0e069b9275f58929596ceb00d14d90e3e16cd6",
   "display_name": "Python 3.6.9 64-bit"
  },
  "metadata": {
   "interpreter": {
    "hash": "31f2aee4e71d21fbe5cf8b01ff0e069b9275f58929596ceb00d14d90e3e16cd6"
   }
  }
 },
 "nbformat": 4,
 "nbformat_minor": 2,
 "cells": [
  {
   "source": [
    "\n",
    "# Exerice 2 Neural network\n",
    "\n",
    "The goal of this exercise is to understand how to combine three neurons to form a neural network. A neural newtwork is nothing else than neurons connected together. As shown in the figure the neural network is composed of **layers**:\n",
    "\n",
    "- Input layer: it only represents input data. **It doesn't contain neurons**.\n",
    "- Output layer: it represents the last layer. It contains a neuron (in some cases more than 1).\n",
    "- Hidden layer: any layer between the input (first) layer and output (last) layer. Many hidden layers can be stacked. When there are many hidden layers, the neural networks is deep.\n",
    "\n",
    "Notice that the neuron **o1** in the output layer takes as input the output of the neurons **h1** and **h2** in the hidden layer.\n",
    "\n",
    "In exercise 1, you implemented this neuron.\n",
    "\n",
    "![alt text][neuron]\n",
    "\n",
    "[neuron]: images/day1/ex2/w3_day1_neuron.png \"Plot\"\n",
    "\n",
    "Now, we add two more neurons:\n",
    "\n",
    "- h2, the second neuron of the hidden layer\n",
    "- o1, the neuron of the output layer\n",
    "\n",
    "![alt text][nn]\n",
    "\n",
    "[nn]: images/day1/ex2/w3_day1_neural_network.png \"Plot\"\n",
    "\n",
    "1. Implement the function `feedforward` of the class `OurNeuralNetwork` that takes as input the input data and returns the output y. Return the output for these neurons:\n",
    "\n",
    "```python\n",
    "neuron_h1 = Neuron(1,2,-1)\n",
    "neuron_h2 = Neuron(0.5,1,0)\n",
    "neuron_o1 = Neuron(2,0,1)\n",
    "```\n",
    "\n",
    "```python\n",
    "class OurNeuralNetwork:\n",
    "    \n",
    "    def __init__(self, neuron_h1, neuron_h2, neuron_o1):\n",
    "        self.h1 = neuron_h1\n",
    "        self.h2 = neuron_h2\n",
    "        self.o1 = neuron_o1\n",
    "\n",
    "    def feedforward(self, x1, x2):\n",
    "    # The inputs for o1 are the outputs from h1 and h2\n",
    "    # TODO\n",
    "        return y\n",
    "\n",
    "```\n"
   ],
   "cell_type": "markdown",
   "metadata": {}
  },
  {
   "cell_type": "code",
   "execution_count": 4,
   "metadata": {},
   "outputs": [
    {
     "output_type": "stream",
     "name": "stdout",
     "text": [
      "0.9524917424084265\n"
     ]
    }
   ],
   "source": [
    "import numpy as np\n",
    "\n",
    "def sigmoid(x):\n",
    "  # sigmoid -> activation function: f(x) = 1 / (1 + e^(-x))\n",
    "  return 1 / (1 + np.exp(-x))\n",
    "\n",
    "class Neuron:\n",
    "    def __init__(self, weights, bias):\n",
    "        self.weights= weights\n",
    "        self.bias= bias\n",
    "    def feedforward(self, inputs):\n",
    "        # first we multipli the values with their weight\n",
    "        # then add the bias\n",
    "        # then apply the function (sigmoid)\n",
    "        t = np.dot(self.weights, inputs) + self.bias\n",
    "        return sigmoid(t)\n",
    "\n",
    "class OurNeuralNetwork:\n",
    "    def __init__(self, neuron_h1, neuron_h2, neuron_o1):\n",
    "        self.h1 = neuron_h1\n",
    "        self.h2 = neuron_h2\n",
    "        self.o1 = neuron_o1\n",
    "\n",
    "    def feedforward(self, inputs):\n",
    "        # the inputs for o1 are the outputs from h1 and h2\n",
    "        out_h1 = self.h1.feedforward(inputs)\n",
    "        out_h2 = self.h2.feedforward(inputs)\n",
    "        out_o1 = self.o1.feedforward(np.array([out_h1, out_h2]))\n",
    "        return out_o1\n",
    "\n",
    "neuron_h1 = Neuron(np.array([1,2]),-1)\n",
    "neuron_h2 = Neuron(np.array([0.5,1]),0)\n",
    "neuron_o1 = Neuron(np.array([2,0]),1)\n",
    "\n",
    "network = OurNeuralNetwork(neuron_h1, neuron_h2, neuron_o1)\n",
    "\n",
    "# testing\n",
    "print(network.feedforward(np.array([2, 3])))"
   ]
  }
 ]
}