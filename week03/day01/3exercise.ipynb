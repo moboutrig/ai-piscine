{
 "metadata": {
  "language_info": {
   "codemirror_mode": {
    "name": "ipython",
    "version": 3
   },
   "file_extension": ".py",
   "mimetype": "text/x-python",
   "name": "python",
   "nbconvert_exporter": "python",
   "pygments_lexer": "ipython3",
   "version": "3.6.9"
  },
  "orig_nbformat": 2,
  "kernelspec": {
   "name": "python369jvsc74a57bd031f2aee4e71d21fbe5cf8b01ff0e069b9275f58929596ceb00d14d90e3e16cd6",
   "display_name": "Python 3.6.9 64-bit"
  },
  "metadata": {
   "interpreter": {
    "hash": "31f2aee4e71d21fbe5cf8b01ff0e069b9275f58929596ceb00d14d90e3e16cd6"
   }
  }
 },
 "nbformat": 4,
 "nbformat_minor": 2,
 "cells": [
  {
   "source": [
    "\n",
    "# Exercise 3 Log loss\n",
    "\n",
    "The goal of this exercise is to implement the Log loss function. As mentioned last week, this function is used in classification as a **loss function**. It means that the better the classifier is, the smaller the loss function is. W2D1, you implemented the gradient descent on the MSE loss to update the weights of the linear regression. Similarly, the minimization of the Log loss leads to finding optimal weights.\n",
    "\n",
    "Log loss: `- 1/n * Sum[(y_true*log(y_pred) + (1-y_true)*log(1-y_pred))]`\n",
    "\n",
    "1. Create a function `log_loss_custom` and compute the loss for the data below:\n",
    "\n",
    "```python\n",
    "y_true = np.array([0,1,1,0,1])\n",
    "y_pred = np.array([0.1,0.8,0.6, 0.5, 0.3])\n",
    "```\n",
    "\n",
    "Check that `log_loss` from `sklearn.metrics` returns the same result\n",
    "\n",
    "- https://scikit-learn.org/stable/modules/generated/sklearn.metrics.log_loss.html\n"
   ],
   "cell_type": "markdown",
   "metadata": {}
  },
  {
   "cell_type": "code",
   "execution_count": 4,
   "metadata": {},
   "outputs": [
    {
     "output_type": "stream",
     "name": "stdout",
     "text": [
      "0.5472899351247816\n"
     ]
    }
   ],
   "source": [
    "from sklearn.metrics import log_loss\n",
    "import numpy as np\n",
    "# log_loss([\"spam\", \"ham\", \"ham\", \"spam\"],\n",
    "# ...          [[.1, .9], [.9, .1], [.8, .2], [.35, .65]])\n",
    "\n",
    "def log_loss_custom(y_true, y_pred):\n",
    "    return log_loss(y_true, y_pred)\n",
    "\n",
    "y_true = np.array([0,1,1,0,1])\n",
    "y_pred = np.array([0.1,0.8,0.6, 0.5, 0.3])\n",
    "\n",
    "print(log_loss(y_true, y_pred))"
   ]
  }
 ]
}