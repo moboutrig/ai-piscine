{
 "metadata": {
  "language_info": {
   "codemirror_mode": {
    "name": "ipython",
    "version": 3
   },
   "file_extension": ".py",
   "mimetype": "text/x-python",
   "name": "python",
   "nbconvert_exporter": "python",
   "pygments_lexer": "ipython3",
   "version": "3.6.9"
  },
  "orig_nbformat": 2,
  "kernelspec": {
   "name": "python369jvsc74a57bd031f2aee4e71d21fbe5cf8b01ff0e069b9275f58929596ceb00d14d90e3e16cd6",
   "display_name": "Python 3.6.9 64-bit"
  },
  "metadata": {
   "interpreter": {
    "hash": "31f2aee4e71d21fbe5cf8b01ff0e069b9275f58929596ceb00d14d90e3e16cd6"
   }
  }
 },
 "nbformat": 4,
 "nbformat_minor": 2,
 "cells": [
  {
   "source": [
    "\n",
    "# Exercise 5: NER\n",
    "\n",
    "The goal of this exercise is to learn to use a Named entity recognition algorithm to detect entities.\n",
    "\n",
    "```console\n",
    "Apple Inc. is an American multinational technology company headquartered in Cupertino, California, that designs, develops, and sells consumer electronics, computer software, and online services. It is considered one of the Big Five companies in the U.S. information technology industry, along with Amazon, Google, Microsoft, and Facebook.\n",
    "Apple was founded by Steve Jobs, Steve Wozniak, and Ronald Wayne in April 1976 to develop and sell Wozniak's Apple I personal computer, though Wayne sold his share back within 12 days. It was incorporated as Apple Computer, Inc., in January 1977, and sales of its computers, including the Apple I and Apple II, grew quickly.\n",
    " ```\n",
    "\n",
    "1. Extract all named entities in the text as well as the label of the named entity.\n",
    "\n",
    "2. The NER is also useful to remove ambiguous entities. From a conceptual standpoint, disambiguation is the process of determining the most probable meaning of a specific phrase. For example in the sentence below, the word `apple` is present twice in the sentence. The first time to mention the fruit and the second to mention a company. Run the NER on this sentence and print the named entity, the `start_char`, the `end_char` and the label of the named entity.\n",
    "\n",
    "```console\n",
    "Paul eats an apple while watching a movie on his Apple device.\n",
    "```\n",
    "\n",
    "- https://en.wikipedia.org/wiki/Named-entity_recognition\n"
   ],
   "cell_type": "markdown",
   "metadata": {}
  },
  {
   "cell_type": "code",
   "execution_count": 7,
   "metadata": {},
   "outputs": [
    {
     "output_type": "stream",
     "name": "stdout",
     "text": [
      "Apple Inc. ORG\nAmerican NORP\nCupertino GPE\nCalifornia GPE\nU.S. GPE\nAmazon ORG\nGoogle ORG\nMicrosoft ORG\nFacebook PERSON\nApple ORG\nSteve Jobs PERSON\nSteve Wozniak PERSON\nRonald Wayne PERSON\nApril 1976 DATE\nWozniak PERSON\nApple ORG\nWayne PERSON\n12 days DATE\nApple Computer, Inc. ORG\nJanuary 1977 DATE\nApple ORG\nApple II ORG\n"
     ]
    }
   ],
   "source": [
    "import spacy\n",
    "\n",
    "nlp = spacy.load(\"en_core_web_md\")\n",
    "\n",
    "text = \"\"\"Apple Inc. is an American multinational technology company headquartered in Cupertino, California, that designs, develops, and sells consumer electronics, computer software, and online services. It is considered one of the Big Five companies in the U.S. information technology industry, along with Amazon, Google, Microsoft, and Facebook.\n",
    "Apple was founded by Steve Jobs, Steve Wozniak, and Ronald Wayne in April 1976 to develop and sell Wozniak's Apple I personal computer, though Wayne sold his share back within 12 days. It was incorporated as Apple Computer, Inc., in January 1977, and sales of its computers, including the Apple I and Apple II, grew quickly.\"\"\"\n",
    "\n",
    "doc = nlp(text)\n",
    "\n",
    "# a = nlp.add_pipe('ner')\n",
    "# processed = a(doc)\n",
    "# \n",
    "# print(processed)\n",
    "for ent in doc.ents:\n",
    "    print(ent.text, ent.label_)\n"
   ]
  },
  {
   "cell_type": "code",
   "execution_count": 2,
   "metadata": {},
   "outputs": [
    {
     "output_type": "stream",
     "name": "stdout",
     "text": [
      "Apple 49 54 ORG\n"
     ]
    }
   ],
   "source": [
    "# 2.\n",
    "nlp1 = spacy.load('en_core_web_sm')\n",
    "text2 = 'Paul eats an apple while watching a movie on his Apple device.'\n",
    "\n",
    "doc2 = nlp1(text2)\n",
    "\n",
    "for ent in doc2.ents:\n",
    "    print(ent.text, ent.start_char, ent.end_char, ent.label_)\n"
   ]
  }
 ]
}