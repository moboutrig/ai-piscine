{
 "metadata": {
  "language_info": {
   "codemirror_mode": {
    "name": "ipython",
    "version": 3
   },
   "file_extension": ".py",
   "mimetype": "text/x-python",
   "name": "python",
   "nbconvert_exporter": "python",
   "pygments_lexer": "ipython3",
   "version": "3.6.9"
  },
  "orig_nbformat": 2,
  "kernelspec": {
   "name": "python369jvsc74a57bd031f2aee4e71d21fbe5cf8b01ff0e069b9275f58929596ceb00d14d90e3e16cd6",
   "display_name": "Python 3.6.9 64-bit"
  },
  "metadata": {
   "interpreter": {
    "hash": "31f2aee4e71d21fbe5cf8b01ff0e069b9275f58929596ceb00d14d90e3e16cd6"
   }
  }
 },
 "nbformat": 4,
 "nbformat_minor": 2,
 "cells": [
  {
   "source": [
    "\n",
    "# Exercise 1 Embedding 1\n",
    "\n",
    "The goal of this exercise is to learn to load an embedding on SpaCy.\n",
    "\n",
    "1. Install and load `en_core_web_sm` embedding. Compute the embedding of `car`.\n"
   ],
   "cell_type": "markdown",
   "metadata": {}
  },
  {
   "cell_type": "code",
   "execution_count": 22,
   "metadata": {},
   "outputs": [
    {
     "output_type": "stream",
     "name": "stdout",
     "text": [
      "(96,)\n[ 1.2932893   0.89211553  0.62943053 -0.2729334  -0.5341986   0.64496064\n -0.5201328  -1.1334405  -0.62704134 -0.22807677  0.48515025  0.57020843\n  0.07102954  0.34108397 -0.83850193  0.95933235  0.47873932 -0.79558283\n -0.548351    0.06075529]\n"
     ]
    }
   ],
   "source": [
    "import spacy\n",
    "\n",
    "nlp = spacy.load(\"en_core_web_sm\")\n",
    "doc = nlp('car')\n",
    "vector = doc.vector\n",
    "print(vector.shape)\n",
    "print(vector[:20])"
   ]
  }
 ]
}