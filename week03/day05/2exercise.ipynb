{
 "metadata": {
  "language_info": {
   "codemirror_mode": {
    "name": "ipython",
    "version": 3
   },
   "file_extension": ".py",
   "mimetype": "text/x-python",
   "name": "python",
   "nbconvert_exporter": "python",
   "pygments_lexer": "ipython3",
   "version": "3.6.9"
  },
  "orig_nbformat": 2,
  "kernelspec": {
   "name": "python369jvsc74a57bd031f2aee4e71d21fbe5cf8b01ff0e069b9275f58929596ceb00d14d90e3e16cd6",
   "display_name": "Python 3.6.9 64-bit"
  },
  "metadata": {
   "interpreter": {
    "hash": "31f2aee4e71d21fbe5cf8b01ff0e069b9275f58929596ceb00d14d90e3e16cd6"
   }
  }
 },
 "nbformat": 4,
 "nbformat_minor": 2,
 "cells": [
  {
   "source": [
    "\n",
    "# Exercise 2: Tokenization\n",
    "\n",
    "The goal of this exercise is to learn to tokenize a document using Spacy. We did this using NLTK yesterday.\n",
    "\n",
    "1. Tokenize the text below and print the tokens\n",
    "\n",
    "```python\n",
    "    text = \"Tokenize this sentence. And this one too.\"\n",
    "```\n"
   ],
   "cell_type": "markdown",
   "metadata": {}
  },
  {
   "cell_type": "code",
   "execution_count": 7,
   "metadata": {},
   "outputs": [
    {
     "output_type": "stream",
     "name": "stdout",
     "text": [
      "['Tokenize', 'this', 'sentence', '.', 'And', 'this', 'one', 'too', '.']\n"
     ]
    }
   ],
   "source": [
    "import spacy\n",
    "\n",
    "nlp = spacy.load(\"en_core_web_sm\")\n",
    "text = \"Tokenize this sentence. And this one too.\"\n",
    "\n",
    "doc = nlp(text)\n",
    "words = [word.text for word in doc]\n",
    "print(words)"
   ]
  }
 ]
}