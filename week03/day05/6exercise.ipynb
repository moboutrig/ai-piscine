{
 "metadata": {
  "language_info": {
   "codemirror_mode": {
    "name": "ipython",
    "version": 3
   },
   "file_extension": ".py",
   "mimetype": "text/x-python",
   "name": "python",
   "nbconvert_exporter": "python",
   "pygments_lexer": "ipython3",
   "version": "3.6.9"
  },
  "orig_nbformat": 2,
  "kernelspec": {
   "name": "python369jvsc74a57bd031f2aee4e71d21fbe5cf8b01ff0e069b9275f58929596ceb00d14d90e3e16cd6",
   "display_name": "Python 3.6.9 64-bit"
  },
  "metadata": {
   "interpreter": {
    "hash": "31f2aee4e71d21fbe5cf8b01ff0e069b9275f58929596ceb00d14d90e3e16cd6"
   }
  }
 },
 "nbformat": 4,
 "nbformat_minor": 2,
 "cells": [
  {
   "source": [
    "\n",
    "# Exercise 6 Part-of-speech tags\n",
    "\n",
    "The goal od this exercise is to learn to use the Part-of-speech tags (**POS TAG**) using Spacy. As explained in wikipedia, the POS TAG is the process of marking up a word in a text (corpus) as corresponding to a particular part of speech, based on both its definition and its context.\n",
    "\n",
    "## Example\n",
    "\n",
    "The sentence: **\"Heat water in a large vessel\"** is tagged this way after the POS TAG:\n",
    "\n",
    "- heat verb (noun)\n",
    "- water noun (verb)\n",
    "- in prep (noun, adv)\n",
    "- a det (noun)\n",
    "- large adj (noun)\n",
    "- vessel noun\n",
    "\n",
    "The data `news_amazon.txt` used is a news paper about Amazon.\n",
    "\n",
    "1. Return all sentences mentioning **Bezos** as a NNP (tag).\n"
   ],
   "cell_type": "markdown",
   "metadata": {}
  },
  {
   "cell_type": "code",
   "execution_count": 1,
   "metadata": {},
   "outputs": [
    {
     "output_type": "stream",
     "name": "stdout",
     "text": [
      "Heat NOUN NN\nwater NOUN NN\nin ADP IN\na DET DT\nlarge ADJ JJ\nvessel NOUN NN\n"
     ]
    }
   ],
   "source": [
    "import spacy\n",
    "\n",
    "nlp = spacy.load(\"en_core_web_md\")\n",
    "\n",
    "text = 'Heat water in a large vessel'\n",
    "doc = nlp(text)\n",
    "\n",
    "for v in doc:\n",
    "    print(v.text, v.pos_, v.tag_)\n"
   ]
  }
 ]
}