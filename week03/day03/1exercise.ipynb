{
 "metadata": {
  "language_info": {
   "codemirror_mode": {
    "name": "ipython",
    "version": 3
   },
   "file_extension": ".py",
   "mimetype": "text/x-python",
   "name": "python",
   "nbconvert_exporter": "python",
   "pygments_lexer": "ipython3",
   "version": "3.6.9"
  },
  "orig_nbformat": 2,
  "kernelspec": {
   "name": "python369jvsc74a57bd031f2aee4e71d21fbe5cf8b01ff0e069b9275f58929596ceb00d14d90e3e16cd6",
   "display_name": "Python 3.6.9 64-bit"
  },
  "metadata": {
   "interpreter": {
    "hash": "31f2aee4e71d21fbe5cf8b01ff0e069b9275f58929596ceb00d14d90e3e16cd6"
   }
  }
 },
 "nbformat": 4,
 "nbformat_minor": 2,
 "cells": [
  {
   "source": [
    "\n",
    "# Exercise 1 Regression - Optimize\n",
    "\n",
    "The goal of this exercise is to learn to set up the optimization for a regression neural network. There's no code to run in that exercise. In W2D2E3, we implemented a neural network designed for regression. We will be using this neural network:\n",
    "\n",
    "    ```\n",
    "    model = keras.Sequential()\n",
    "    model.add(Dense(8, input_shape=(5,), activation= 'sigmoid'))\n",
    "    model.add(Dense(4, activation= 'sigmoid'))\n",
    "    model.add(Dense(1, activation= 'linear'))\n",
    "\n",
    "    ```\n",
    "As a reminder, the main difference between a regression and classification neural network's architecture is the output layer activation function.\n",
    "\n",
    "1. Fill this chunk of code to set up the optimization part of the regression neural network:\n",
    "\n",
    "```python\n",
    "model.compile(\n",
    "  optimizer='adam',\n",
    "  loss='',#TODO1\n",
    "  metrics=[''] #TODO2\n",
    ")\n",
    "```\n",
    "\n",
    "Hint:\n",
    "\n",
    "- Mean Squared Error (MSE) and Mean Absolute Error (MAE) are common loss functions used for regression problems. Mean Absolute Error is less sensitive to outliers. Different loss functions are used for classification problems. Similarly, evaluation metrics used for regression differ from classification.\n",
    "\n",
    "https://keras.io/api/metrics/regression_metrics/\n"
   ],
   "cell_type": "markdown",
   "metadata": {}
  },
  {
   "cell_type": "code",
   "execution_count": 5,
   "metadata": {},
   "outputs": [],
   "source": [
    "from numpy import loadtxt\n",
    "from keras.models import Sequential\n",
    "from keras.layers import Dense\n",
    "from keras.metrics import MeanSquaredError\n",
    "\n",
    "model = Sequential()\n",
    "model.add(Dense(8, input_shape=(5,), activation= 'sigmoid'))\n",
    "model.add(Dense(4, activation= 'sigmoid'))\n",
    "model.add(Dense(1, activation= 'linear'))\n",
    "\n",
    "model.compile(\n",
    "  optimizer='adam',\n",
    "  loss='mse',\n",
    "  metrics=['mse']\n",
    ")\n"
   ]
  }
 ]
}