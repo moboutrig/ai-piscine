{
 "metadata": {
  "language_info": {
   "codemirror_mode": {
    "name": "ipython",
    "version": 3
   },
   "file_extension": ".py",
   "mimetype": "text/x-python",
   "name": "python",
   "nbconvert_exporter": "python",
   "pygments_lexer": "ipython3",
   "version": "3.6.9"
  },
  "orig_nbformat": 2,
  "kernelspec": {
   "name": "python369jvsc74a57bd031f2aee4e71d21fbe5cf8b01ff0e069b9275f58929596ceb00d14d90e3e16cd6",
   "display_name": "Python 3.6.9 64-bit"
  },
  "metadata": {
   "interpreter": {
    "hash": "31f2aee4e71d21fbe5cf8b01ff0e069b9275f58929596ceb00d14d90e3e16cd6"
   }
  }
 },
 "nbformat": 4,
 "nbformat_minor": 2,
 "cells": [
  {
   "source": [
    "\n",
    "# Exercise 3 Multi classification - Softmax\n",
    "\n",
    "The goal of this exercise is to learn to a neural network architecture for multi-class data. This is an important type of problem on which to practice with neural networks because the three class values require specialized handling. A multi-classification neural network uses as output layer a **softmax** layer. The **softmax** activation function is an extension of the sigmoid as it is designed to output the probabilities to belong to each class in a multi-class problem. This output layer has to contain as much neurons as classes in the multi-classification problem. This article explains in detail how it works.\n",
    "\n",
    "- https://developers.google.com/machine-learning/crash-course/multi-class-neural-networks/softmax\n",
    "\n",
    "Let us assume we want to classify images and we know they contain either apples, bears, candies, eggs or dogs (extension of the example in the link above).\n",
    "\n",
    "1. Create the architecture for a multi-class neural network with the following architecture and return `print(model.summary())`:\n",
    "\n",
    "- 5 inputs variables\n",
    "- hidden layer 1: 16 neurons and sigmoid as activation function\n",
    "- hidden layer 2: 8 neurons and sigmoid as activation function\n",
    "- output layer: The number of neurons and the activation function should be adapted to this multi-classification problem.\n"
   ],
   "cell_type": "markdown",
   "metadata": {}
  },
  {
   "cell_type": "code",
   "execution_count": 1,
   "metadata": {},
   "outputs": [
    {
     "output_type": "stream",
     "name": "stdout",
     "text": [
      "Model: \"sequential\"\n_________________________________________________________________\nLayer (type)                 Output Shape              Param #   \n=================================================================\ndense (Dense)                (None, 161)               966       \n_________________________________________________________________\ndense_1 (Dense)              (None, 8)                 1296      \n_________________________________________________________________\ndense_2 (Dense)              (None, 5)                 45        \n=================================================================\nTotal params: 2,307\nTrainable params: 2,307\nNon-trainable params: 0\n_________________________________________________________________\nNone\n"
     ]
    }
   ],
   "source": [
    "from keras.models import Sequential\n",
    "from keras.layers import Dense\n",
    "\n",
    "model = Sequential()\n",
    "model.add(Dense(161, input_shape=(5,), activation= 'sigmoid'))\n",
    "model.add(Dense(8, activation= 'sigmoid'))\n",
    "model.add(Dense(5, activation= 'softmax'))\n",
    "\n",
    "print(model.summary())"
   ]
  }
 ]
}