{
 "metadata": {
  "language_info": {
   "codemirror_mode": {
    "name": "ipython",
    "version": 3
   },
   "file_extension": ".py",
   "mimetype": "text/x-python",
   "name": "python",
   "nbconvert_exporter": "python",
   "pygments_lexer": "ipython3",
   "version": "3.6.9"
  },
  "orig_nbformat": 2,
  "kernelspec": {
   "name": "python369jvsc74a57bd031f2aee4e71d21fbe5cf8b01ff0e069b9275f58929596ceb00d14d90e3e16cd6",
   "display_name": "Python 3.6.9 64-bit"
  },
  "metadata": {
   "interpreter": {
    "hash": "31f2aee4e71d21fbe5cf8b01ff0e069b9275f58929596ceb00d14d90e3e16cd6"
   }
  }
 },
 "nbformat": 4,
 "nbformat_minor": 2,
 "cells": [
  {
   "source": [
    "\n",
    "# Exercise 2 Dense\n",
    "\n",
    "The goal of this exercise is to learn to create layers of neurons. Keras proposes options to create custom layers. The neural networks build in these exercises do not require custom layers. `Dense` layers do the job. A dense layer is simply a layer where each unit or neuron is connected to each neuron in the next layer. As seen yesterday, there are three main types of layers: input, hidden and output. The **input layer** that specifies the number of inputs (features) is not represented as a layer in Keras. However, `Dense` has a parameter `input_dim` that gives the number of inputs in the previous layer. The output layer as any hidden layer can be created using `Dense`, the only difference is that the output layer contains one single neuron.\n",
    "\n",
    "1. Create a `Dense` layer with these parameters and return the output of `get_config`:\n",
    "\n",
    "- First hidden layer connected to 5 input variables.\n",
    "- 8 neurons\n",
    "- sigmoid as activation function\n",
    "\n",
    "2. Create a `Dense` layer with these parameters and return the output of `get_config`:\n",
    "\n",
    "- Hidden layer (not the first one)\n",
    "- 4 neurons\n",
    "- sigmoid as activation function\n",
    "\n",
    "3. Create a `Dense` layer with these parameters and return the output of `get_config`:\n",
    "\n",
    "- Output layer\n",
    "- 1 neuron\n",
    "- sigmoid as activation function"
   ],
   "cell_type": "markdown",
   "metadata": {}
  },
  {
   "cell_type": "code",
   "execution_count": 15,
   "metadata": {},
   "outputs": [
    {
     "output_type": "stream",
     "name": "stdout",
     "text": [
      "{'name': 'sequential_14', 'layers': [{'class_name': 'InputLayer', 'config': {'batch_input_shape': (None, 5), 'dtype': 'float32', 'sparse': False, 'ragged': False, 'name': 'dense_16_input'}}, {'class_name': 'Dense', 'config': {'name': 'dense_16', 'trainable': True, 'batch_input_shape': (None, 5), 'dtype': 'float32', 'units': 8, 'activation': 'sigmoid', 'use_bias': True, 'kernel_initializer': {'class_name': 'GlorotUniform', 'config': {'seed': None}}, 'bias_initializer': {'class_name': 'Zeros', 'config': {}}, 'kernel_regularizer': None, 'bias_regularizer': None, 'activity_regularizer': None, 'kernel_constraint': None, 'bias_constraint': None}}]}\n-------------------\n{'name': 'sequential_14', 'layers': [{'class_name': 'InputLayer', 'config': {'batch_input_shape': (None, 5), 'dtype': 'float32', 'sparse': False, 'ragged': False, 'name': 'dense_16_input'}}, {'class_name': 'Dense', 'config': {'name': 'dense_16', 'trainable': True, 'batch_input_shape': (None, 5), 'dtype': 'float32', 'units': 8, 'activation': 'sigmoid', 'use_bias': True, 'kernel_initializer': {'class_name': 'GlorotUniform', 'config': {'seed': None}}, 'bias_initializer': {'class_name': 'Zeros', 'config': {}}, 'kernel_regularizer': None, 'bias_regularizer': None, 'activity_regularizer': None, 'kernel_constraint': None, 'bias_constraint': None}}, {'class_name': 'Dense', 'config': {'name': 'dense_17', 'trainable': True, 'dtype': 'float32', 'units': 4, 'activation': 'sigmoid', 'use_bias': True, 'kernel_initializer': {'class_name': 'GlorotUniform', 'config': {'seed': None}}, 'bias_initializer': {'class_name': 'Zeros', 'config': {}}, 'kernel_regularizer': None, 'bias_regularizer': None, 'activity_regularizer': None, 'kernel_constraint': None, 'bias_constraint': None}}]}\n-------------------\n{'name': 'sequential_14', 'layers': [{'class_name': 'InputLayer', 'config': {'batch_input_shape': (None, 5), 'dtype': 'float32', 'sparse': False, 'ragged': False, 'name': 'dense_16_input'}}, {'class_name': 'Dense', 'config': {'name': 'dense_16', 'trainable': True, 'batch_input_shape': (None, 5), 'dtype': 'float32', 'units': 8, 'activation': 'sigmoid', 'use_bias': True, 'kernel_initializer': {'class_name': 'GlorotUniform', 'config': {'seed': None}}, 'bias_initializer': {'class_name': 'Zeros', 'config': {}}, 'kernel_regularizer': None, 'bias_regularizer': None, 'activity_regularizer': None, 'kernel_constraint': None, 'bias_constraint': None}}, {'class_name': 'Dense', 'config': {'name': 'dense_17', 'trainable': True, 'dtype': 'float32', 'units': 4, 'activation': 'sigmoid', 'use_bias': True, 'kernel_initializer': {'class_name': 'GlorotUniform', 'config': {'seed': None}}, 'bias_initializer': {'class_name': 'Zeros', 'config': {}}, 'kernel_regularizer': None, 'bias_regularizer': None, 'activity_regularizer': None, 'kernel_constraint': None, 'bias_constraint': None}}, {'class_name': 'Dense', 'config': {'name': 'dense_18', 'trainable': True, 'dtype': 'float32', 'units': 1, 'activation': 'sigmoid', 'use_bias': True, 'kernel_initializer': {'class_name': 'GlorotUniform', 'config': {'seed': None}}, 'bias_initializer': {'class_name': 'Zeros', 'config': {}}, 'kernel_regularizer': None, 'bias_regularizer': None, 'activity_regularizer': None, 'kernel_constraint': None, 'bias_constraint': None}}]}\n"
     ]
    }
   ],
   "source": [
    "from numpy import loadtxt\n",
    "from keras.models import Sequential\n",
    "from keras.layers import Dense\n",
    "\n",
    "model = Sequential()\n",
    "\n",
    "# 1.\n",
    "model.add(Dense(8, input_dim=5, activation='sigmoid'))\n",
    "print(model.get_config())\n",
    "\n",
    "# 2.\n",
    "model.add(Dense(4, activation='sigmoid'))\n",
    "print('-------------------')\n",
    "print(model.get_config())\n",
    "\n",
    "# 3.\n",
    "model.add(Dense(1, activation='sigmoid'))\n",
    "print('-------------------')\n",
    "print(model.get_config())\n"
   ]
  }
 ]
}