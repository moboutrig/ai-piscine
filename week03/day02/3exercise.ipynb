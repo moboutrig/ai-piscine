{
 "metadata": {
  "language_info": {
   "codemirror_mode": {
    "name": "ipython",
    "version": 3
   },
   "file_extension": ".py",
   "mimetype": "text/x-python",
   "name": "python",
   "nbconvert_exporter": "python",
   "pygments_lexer": "ipython3",
   "version": "3.6.9"
  },
  "orig_nbformat": 2,
  "kernelspec": {
   "name": "python369jvsc74a57bd031f2aee4e71d21fbe5cf8b01ff0e069b9275f58929596ceb00d14d90e3e16cd6",
   "display_name": "Python 3.6.9 64-bit"
  },
  "metadata": {
   "interpreter": {
    "hash": "31f2aee4e71d21fbe5cf8b01ff0e069b9275f58929596ceb00d14d90e3e16cd6"
   }
  }
 },
 "nbformat": 4,
 "nbformat_minor": 2,
 "cells": [
  {
   "source": [
    "\n",
    "# Exercise 3 Architecture\n",
    "\n",
    "The goal of this exercise is to combine the layers and to create a neural network.\n",
    "\n",
    "1. Create a neural network for regression with the following architecture and return `print(model.summary())`:\n",
    "\n",
    "- 5 inputs variables\n",
    "- hidden layer 1: 8 neurons and sigmoid as activation function\n",
    "- hidden layer 2: 4 neurons and sigmoid as activation function\n",
    "- output layer: 1 neuron. Find the adapted activation function\n"
   ],
   "cell_type": "markdown",
   "metadata": {}
  },
  {
   "cell_type": "code",
   "execution_count": 13,
   "metadata": {},
   "outputs": [
    {
     "output_type": "stream",
     "name": "stdout",
     "text": [
      "Model: \"sequential_12\"\n_________________________________________________________________\nLayer (type)                 Output Shape              Param #   \n=================================================================\ndense_32 (Dense)             (None, 8)                 48        \n_________________________________________________________________\ndense_33 (Dense)             (None, 4)                 36        \n_________________________________________________________________\ndense_34 (Dense)             (None, 1)                 5         \n=================================================================\nTotal params: 89\nTrainable params: 89\nNon-trainable params: 0\n_________________________________________________________________\nNone\n"
     ]
    }
   ],
   "source": [
    "from numpy import loadtxt\n",
    "from keras.models import Sequential\n",
    "from keras.layers import Dense\n",
    "\n",
    "\n",
    "model = Sequential()\n",
    "\n",
    "model.add(Dense(8, input_dim=5, activation='sigmoid'))\n",
    "model.add(Dense(4, activation='sigmoid'))\n",
    "model.add(Dense(1, activation='relu'))\n",
    "\n",
    "# testing\n",
    "print(model.summary())\n"
   ]
  }
 ]
}