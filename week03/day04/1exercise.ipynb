{
 "metadata": {
  "language_info": {
   "codemirror_mode": {
    "name": "ipython",
    "version": 3
   },
   "file_extension": ".py",
   "mimetype": "text/x-python",
   "name": "python",
   "nbconvert_exporter": "python",
   "pygments_lexer": "ipython3",
   "version": "3.6.9"
  },
  "orig_nbformat": 2,
  "kernelspec": {
   "name": "python369jvsc74a57bd031f2aee4e71d21fbe5cf8b01ff0e069b9275f58929596ceb00d14d90e3e16cd6",
   "display_name": "Python 3.6.9 64-bit"
  },
  "metadata": {
   "interpreter": {
    "hash": "31f2aee4e71d21fbe5cf8b01ff0e069b9275f58929596ceb00d14d90e3e16cd6"
   }
  }
 },
 "nbformat": 4,
 "nbformat_minor": 2,
 "cells": [
  {
   "source": [
    "# Exercise 1: Lowercase\n",
    "\n",
    "The goal of this exercise is to learn to lowercase text data in Python. Note that if the volume of data is low the text data can be stored in a Pandas DataFrame or Series. But, when dealing with high volumes (high but not huge), using a Pandas DataFrame or Series is not efficient. Data structures as dictionaries or list are more adapted.\n",
    "\n",
    "```python\n",
    "list_ = [\"This is my first NLP exercise\", \"wtf!!!!!\"]\n",
    "series_data = pd.Series(list_, name='text')\n",
    "```\n",
    "\n",
    "1. Print all texts in lowercase\n",
    "\n",
    "2. Print all texts in upper case\n",
    "\n",
    "**Note**: Do not change the text manually !\n"
   ],
   "cell_type": "markdown",
   "metadata": {}
  },
  {
   "cell_type": "code",
   "execution_count": 3,
   "metadata": {},
   "outputs": [
    {
     "output_type": "stream",
     "name": "stdout",
     "text": [
      "0    this is my first nlp exercise\n1                         wtf!!!!!\nName: text, dtype: object\n0    THIS IS MY FIRST NLP EXERCISE\n1                         WTF!!!!!\nName: text, dtype: object\n"
     ]
    }
   ],
   "source": [
    "import pandas as pd\n",
    "\n",
    "list_ = [\"This is my first NLP exercise\", \"wtf!!!!!\"]\n",
    "series_data = pd.Series(list_, name='text')\n",
    "\n",
    "# 1.\n",
    "print(series_data.str.lower())\n",
    "\n",
    "# 2.\n",
    "print(series_data.str.upper())\n"
   ]
  }
 ]
}