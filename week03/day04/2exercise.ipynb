{
 "metadata": {
  "language_info": {
   "codemirror_mode": {
    "name": "ipython",
    "version": 3
   },
   "file_extension": ".py",
   "mimetype": "text/x-python",
   "name": "python",
   "nbconvert_exporter": "python",
   "pygments_lexer": "ipython3",
   "version": "3.6.9"
  },
  "orig_nbformat": 2,
  "kernelspec": {
   "name": "python369jvsc74a57bd031f2aee4e71d21fbe5cf8b01ff0e069b9275f58929596ceb00d14d90e3e16cd6",
   "display_name": "Python 3.6.9 64-bit"
  },
  "metadata": {
   "interpreter": {
    "hash": "31f2aee4e71d21fbe5cf8b01ff0e069b9275f58929596ceb00d14d90e3e16cd6"
   }
  }
 },
 "nbformat": 4,
 "nbformat_minor": 2,
 "cells": [
  {
   "source": [
    "\n",
    "# Exercise 2: Punctuation\n",
    "\n",
    "The goal of this exercise is to learn to deal with punctuation. In Natural Language Processing, some basic approaches as Bag of Words (exercise X) model the text as an unordered combination of words. In that case the punctuation is not always useful as it doesn't add information to the model. That is why is removed.\n",
    "\n",
    "1. Remove the punctuation from this sentence. All characters in `!\"#$%&'()*+,-./:;<=>?@[\\]^_``{|}~` are considered as punctuation.\n",
    "\n",
    "```console\n",
    "Remove, this from .? the sentence !!!! !\"#&'()*+,-./:;<=>_\n",
    "```"
   ],
   "cell_type": "markdown",
   "metadata": {}
  },
  {
   "cell_type": "code",
   "execution_count": 2,
   "metadata": {},
   "outputs": [
    {
     "output_type": "stream",
     "name": "stdout",
     "text": [
      "Remove this from  the sentence  \n"
     ]
    }
   ],
   "source": [
    "import re\n",
    "\n",
    "phrase='Remove, this from .? the sentence !!!! !\"#&\\'()*+,-./:;<=>_'\n",
    "\n",
    "print(re.sub('[!\"#$%&\\'()*+,-./:;<=>?@[\\]^_`{|}~]', '', phrase))"
   ]
  }
 ]
}