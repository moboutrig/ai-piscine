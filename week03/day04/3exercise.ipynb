{
 "metadata": {
  "language_info": {
   "codemirror_mode": {
    "name": "ipython",
    "version": 3
   },
   "file_extension": ".py",
   "mimetype": "text/x-python",
   "name": "python",
   "nbconvert_exporter": "python",
   "pygments_lexer": "ipython3",
   "version": "3.6.9"
  },
  "orig_nbformat": 2,
  "kernelspec": {
   "name": "python369jvsc74a57bd031f2aee4e71d21fbe5cf8b01ff0e069b9275f58929596ceb00d14d90e3e16cd6",
   "display_name": "Python 3.6.9 64-bit"
  },
  "metadata": {
   "interpreter": {
    "hash": "31f2aee4e71d21fbe5cf8b01ff0e069b9275f58929596ceb00d14d90e3e16cd6"
   }
  }
 },
 "nbformat": 4,
 "nbformat_minor": 2,
 "cells": [
  {
   "source": [
    "\n",
    "# Exercise 3 Tokenization\n",
    "\n",
    "The goal of this exercise is to learn to tokenize as text. This step is important because it splits the text into token. A token could be a sentence or a word.\n",
    "\n",
    "```python\n",
    "text = \"\"\"Bitcoin is a cryptocurrency invented in 2008 by an unknown person or group of people using the name Satoshi Nakamoto. The currency began use in 2009 when its implementation was released as open-source software.\"\"\"\n",
    "```\n",
    "\n",
    "1. Tokenize this text using `sent_tokenize` from NLTK.\n",
    "\n",
    "2. Tokenize this text using `word_tokenize` from NLTK.\n",
    "\n",
    "*Resource*:\n",
    "\n",
    "- https://www.analyticsvidhya.com/blog/2019/07/how-get-started-nlp-6-unique-ways-perform-tokenization/\n"
   ],
   "cell_type": "markdown",
   "metadata": {}
  },
  {
   "cell_type": "code",
   "execution_count": 8,
   "metadata": {},
   "outputs": [
    {
     "output_type": "stream",
     "name": "stdout",
     "text": [
      "['Bitcoin is a cryptocurrency invented in 2008 by an unknown person or group of \\npeople using the name Satoshi Nakamoto.', 'The currency began use in 2009 when its implementation was released as open-source software.']\n................\n['Bitcoin', 'is', 'a', 'cryptocurrency', 'invented', 'in', '2008', 'by', 'an', 'unknown', 'person', 'or', 'group', 'of', 'people', 'using', 'the', 'name', 'Satoshi', 'Nakamoto', '.', 'The', 'currency', 'began', 'use', 'in', '2009', 'when', 'its', 'implementation', 'was', 'released', 'as', 'open-source', 'software', '.']\n"
     ]
    }
   ],
   "source": [
    "import nltk\n",
    "from nltk.tokenize import sent_tokenize, word_tokenize\n",
    "\n",
    "text = \"\"\"Bitcoin is a cryptocurrency invented in 2008 by an unknown person or group of \n",
    "people using the name Satoshi Nakamoto. The currency began use in 2009 when its implementation was released as open-source software.\"\"\"\n",
    "\n",
    "print(sent_tokenize(text))\n",
    "print('................')\n",
    "print(word_tokenize(text))"
   ]
  }
 ]
}