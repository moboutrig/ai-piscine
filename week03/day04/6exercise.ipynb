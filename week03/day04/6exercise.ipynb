{
 "metadata": {
  "language_info": {
   "codemirror_mode": {
    "name": "ipython",
    "version": 3
   },
   "file_extension": ".py",
   "mimetype": "text/x-python",
   "name": "python",
   "nbconvert_exporter": "python",
   "pygments_lexer": "ipython3",
   "version": "3.6.9"
  },
  "orig_nbformat": 2,
  "kernelspec": {
   "name": "python369jvsc74a57bd031f2aee4e71d21fbe5cf8b01ff0e069b9275f58929596ceb00d14d90e3e16cd6",
   "display_name": "Python 3.6.9 64-bit"
  },
  "metadata": {
   "interpreter": {
    "hash": "31f2aee4e71d21fbe5cf8b01ff0e069b9275f58929596ceb00d14d90e3e16cd6"
   }
  }
 },
 "nbformat": 4,
 "nbformat_minor": 2,
 "cells": [
  {
   "source": [
    "\n",
    "# Exercise 6: Text preprocessing\n",
    "\n",
    "The goal of this exercise is to learn to create a function to preprocess and clean a text using NLTK.\n",
    "\n",
    "Put this text in a variable:\n",
    "\n",
    "```console\n",
    "01 Edu System presents an innovative curriculum in software engineering and programming. With a renowned industry-leading reputation, the curriculum has been rigorously designed for learning skills of the digital world and technology industry. Taking a different approach than the classic teaching methods today, learning is facilitated through a collective and co-créative process in a professional environment.\n",
    "```\n",
    "\n",
    "1. Write a function that takes as input the text and returns it preprocessed.\n",
    "\n",
    "The preprocessing is composed of:\n",
    "\n",
    "1. Lowercase\n",
    "2. Removing Punctuation\n",
    "3. Tokenization\n",
    "4. Stopword Filtering\n",
    "5. Stemming\n",
    "\n",
    "- https://towardsdatascience.com/nlp-preprocessing-with-nltk-3c04ee00edc0\n"
   ],
   "cell_type": "markdown",
   "metadata": {}
  },
  {
   "source": [
    "from nltk.stem import PorterStemmer\n",
    "from nltk.corpus import stopwords\n",
    "from nltk.tokenize import sent_tokenize, word_tokenize\n",
    "import re\n",
    "\n",
    "text = \"\"\"01 Edu System presents an innovative curriculum in software engineering and programming. With a renowned industry-leading reputation, the curriculum has been rigorously designed for learning skills of the digital world and technology industry. Taking a different approach than the classic teaching methods today, learning is facilitated through a collective and co-créative process in a professional environment.\n",
    "\"\"\"\n",
    "\n",
    "text = text.lower()\n",
    "text = re.sub('[!\"#$%&\\'()*+,-./:;<=>?@[\\]^_`{|}~]', '', text)\n",
    "words = word_tokenize(text)\n",
    "\n",
    "stop_words = set(stopwords.words('english'))\n",
    "filtered_sentence = [w for w in words if not w in stop_words]\n",
    "\n",
    "ps = PorterStemmer()\n",
    "\n",
    "result = []\n",
    "\n",
    "for w in filtered_sentence:\n",
    "    result.append(ps.stem(w))\n",
    "\n",
    "print(result)"
   ],
   "cell_type": "code",
   "metadata": {},
   "execution_count": 6,
   "outputs": [
    {
     "output_type": "stream",
     "name": "stdout",
     "text": [
      "['01', 'edu', 'system', 'present', 'innov', 'curriculum', 'softwar', 'engin', 'program', 'renown', 'industrylead', 'reput', 'curriculum', 'rigor', 'design', 'learn', 'skill', 'digit', 'world', 'technolog', 'industri', 'take', 'differ', 'approach', 'classic', 'teach', 'method', 'today', 'learn', 'facilit', 'collect', 'cocré', 'process', 'profession', 'environ']\n"
     ]
    }
   ]
  }
 ]
}