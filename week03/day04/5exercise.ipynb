{
 "metadata": {
  "language_info": {
   "codemirror_mode": {
    "name": "ipython",
    "version": 3
   },
   "file_extension": ".py",
   "mimetype": "text/x-python",
   "name": "python",
   "nbconvert_exporter": "python",
   "pygments_lexer": "ipython3",
   "version": "3.6.9"
  },
  "orig_nbformat": 2,
  "kernelspec": {
   "name": "python369jvsc74a57bd031f2aee4e71d21fbe5cf8b01ff0e069b9275f58929596ceb00d14d90e3e16cd6",
   "display_name": "Python 3.6.9 64-bit"
  },
  "metadata": {
   "interpreter": {
    "hash": "31f2aee4e71d21fbe5cf8b01ff0e069b9275f58929596ceb00d14d90e3e16cd6"
   }
  }
 },
 "nbformat": 4,
 "nbformat_minor": 2,
 "cells": [
  {
   "source": [
    "\n",
    "# Exercise 5 Stemming\n",
    "\n",
    "The goal of this exercise is to learn to use stemming using NLTK. As explained in details in the article, stemming is the process of reducing inflection in words to their root forms such as mapping a group of words to the same stem even if the stem itself is not a valid word in the Language.\n",
    "\n",
    "Note: The output of a stemmer is a word that may not exist in the dictionary.\n",
    "\n",
    "```python\n",
    "text = \"\"\"\n",
    "The interviewer interviews the president in an interview \n",
    "\"\"\"\n",
    "```\n",
    "\n",
    "1. Return the list of tokens stemmed.\n"
   ],
   "cell_type": "markdown",
   "metadata": {}
  },
  {
   "cell_type": "code",
   "execution_count": 10,
   "metadata": {},
   "outputs": [
    {
     "output_type": "stream",
     "name": "stdout",
     "text": [
      "['the', 'interview', 'interview', 'the', 'presid', 'in', 'an', 'interview']\n"
     ]
    }
   ],
   "source": [
    "from nltk.stem import PorterStemmer\n",
    "from nltk.tokenize import sent_tokenize, word_tokenize\n",
    "\n",
    "text = \"\"\"\n",
    "The interviewer interviews the president in an interview \n",
    "\"\"\"\n",
    "\n",
    "words = word_tokenize(text.lower())\n",
    "ps = PorterStemmer()\n",
    "result = []\n",
    "\n",
    "for w in words:\n",
    "    result.append(ps.stem(w))\n",
    "print(result)"
   ]
  }
 ]
}