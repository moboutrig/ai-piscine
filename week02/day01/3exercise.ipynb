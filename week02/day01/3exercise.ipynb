{
 "metadata": {
  "language_info": {
   "codemirror_mode": {
    "name": "ipython",
    "version": 3
   },
   "file_extension": ".py",
   "mimetype": "text/x-python",
   "name": "python",
   "nbconvert_exporter": "python",
   "pygments_lexer": "ipython3",
   "version": "3.6.9"
  },
  "orig_nbformat": 2,
  "kernelspec": {
   "name": "python369jvsc74a57bd031f2aee4e71d21fbe5cf8b01ff0e069b9275f58929596ceb00d14d90e3e16cd6",
   "display_name": "Python 3.6.9 64-bit"
  },
  "metadata": {
   "interpreter": {
    "hash": "31f2aee4e71d21fbe5cf8b01ff0e069b9275f58929596ceb00d14d90e3e16cd6"
   }
  }
 },
 "nbformat": 4,
 "nbformat_minor": 2,
 "cells": [
  {
   "source": [
    "\n",
    "# Exercise 3: Train test split\n",
    "\n",
    "The goal of this exercise is to learn to split a data set. It is important to understand why we split the data in two sets. To put it in a nutshell: the Machine Learning algorithms learns on the training data and is evaluated on the that it hasn't seen before: the testing data.\n",
    "\n",
    "This video gives a basic and nice explanation: https://www.youtube.com/watch?v=_vdMKioCXqQ\n",
    "\n",
    "This article explains the conditions to split the data and how to split it: https://machinelearningmastery.com/train-test-split-for-evaluating-machine-learning-algorithms/\n",
    "\n",
    "```python\n",
    "X = np.arange(1,21).reshape(10,-1)\n",
    "y = np.arange(1,11)\n",
    "```\n",
    "\n",
    "1. Split the data using `train_test_split` with `shuffle=False`. The test set represents 20% of the total size of the data set. Print X_train, y_train, X_test, y_test.\n",
    "\n",
    "https://scikit-learn.org/stable/modules/generated/sklearn.model_selection.train_test_split.html"
   ],
   "cell_type": "markdown",
   "metadata": {}
  },
  {
   "cell_type": "code",
   "execution_count": 101,
   "metadata": {},
   "outputs": [
    {
     "output_type": "stream",
     "name": "stdout",
     "text": [
      "X_train: [[ 1  2]\n [ 3  4]\n [ 5  6]\n [ 7  8]\n [ 9 10]\n [11 12]\n [13 14]\n [15 16]]\n----\ny_train: [1 2 3 4 5 6 7 8]\n----\nX_test: [[17 18]\n [19 20]]\n----\ny_test [ 9 10]\n"
     ]
    }
   ],
   "source": [
    "import numpy as np\n",
    "import sklearn as sn\n",
    "from sklearn.model_selection import train_test_split\n",
    "\n",
    "X = np.arange(1,21).reshape(10,-1)\n",
    "y = np.arange(1,11)\n",
    "\n",
    "X_train, X_test, y_train, y_test = train_test_split(X, y, test_size=0.20, shuffle=False)\n",
    "\n",
    "print('X_train:', X_train)\n",
    "print('----')\n",
    "print('y_train:', y_train)\n",
    "print('----')\n",
    "print('X_test:', X_test)\n",
    "print('----')\n",
    "print('y_test', y_test)"
   ]
  }
 ]
}