{
 "metadata": {
  "language_info": {
   "codemirror_mode": {
    "name": "ipython",
    "version": 3
   },
   "file_extension": ".py",
   "mimetype": "text/x-python",
   "name": "python",
   "nbconvert_exporter": "python",
   "pygments_lexer": "ipython3",
   "version": "3.6.9"
  },
  "orig_nbformat": 2,
  "kernelspec": {
   "name": "python369jvsc74a57bd031f2aee4e71d21fbe5cf8b01ff0e069b9275f58929596ceb00d14d90e3e16cd6",
   "display_name": "Python 3.6.9 64-bit"
  },
  "metadata": {
   "interpreter": {
    "hash": "31f2aee4e71d21fbe5cf8b01ff0e069b9275f58929596ceb00d14d90e3e16cd6"
   }
  }
 },
 "nbformat": 4,
 "nbformat_minor": 2,
 "cells": [
  {
   "source": [
    "# Exercise 4 Forecast diabetes progression\n",
    "\n",
    "The goal of this exercise is to use Linear Regression to forecast the progression of diabetes. It will not always be precised, you should **ALWAYS** start doing an exploratory data analysis in order to have a good understanding of the data you model. As a reminder here an introduction to EDA:\n",
    "\n",
    "- https://towardsdatascience.com/exploratory-data-analysis-eda-a-practical-guide-and-template-for-structured-data-abfbf3ee3bd9\n",
    "\n",
    "The data set used is described in https://scikit-learn.org/stable/modules/generated/sklearn.datasets.load_diabetes.\n",
    "\n",
    "```python\n",
    "from sklearn.datasets import load_diabetes\n",
    "diabetes = load_diabetes()\n",
    "X, y = diabetes.data, diabetes.target\n",
    "```\n",
    "\n",
    "1. Using `train_test_split`, split the data set in a train set and test set (20%). Use `random_state=43` for results reproducibility.\n",
    "\n",
    "2. Fit the Linear Regression on all the variables. Give the coefficients and the intercept of the Linear Regression. What is then the equation ?\n",
    "\n",
    "3. Predict on the test set. Predicting on the test set is like having new patients for who, as a physician, need to forecast the disease progression in one year given the 10 baseline variables.\n",
    "\n",
    "4. Compute the MSE on the train set and test set.  Later this week we will learn about the R2 which will help us to evaluate the performance of this fitted Linear Regression. The MSE returns an arbitrary value depending on the range of error.\n",
    "\n",
    "**WARNING**: This will be explained later this week. But here, we are doing something \"dangerous\". As you may have read in the data documentation the data is scaled using the whole dataset whereas we should first scale the data on the training set and then use this scaling on the test set. This is a toy example, so let's ignore this detail for now.\n",
    "\n",
    "https://scikit-learn.org/stable/datasets/toy_dataset.html#diabetes-dataset\n"
   ],
   "cell_type": "markdown",
   "metadata": {}
  },
  {
   "cell_type": "code",
   "execution_count": 128,
   "metadata": {},
   "outputs": [
    {
     "output_type": "stream",
     "name": "stdout",
     "text": [
      "y_train:  [[202.]\n [ 55.]\n [202.]\n [ 42.]\n [214.]\n [173.]\n [118.]\n [ 90.]\n [129.]\n [151.]]\ny_test:  [[ 71.]\n [ 72.]\n [235.]\n [277.]\n [109.]\n [ 61.]\n [109.]\n [ 78.]\n [ 66.]\n [192.]]\n     0           0\n0  age  -60.401630\n1  sex -226.087407\n2  bmi  529.383623\n3   bp  259.963077\n4   s1 -859.121932\n5   s2  504.709601\n6   s3  157.420349\n7   s4  226.295336\n8   s5  840.793807\n9   s6   34.712226\nintercept: \n [152.05314895]\n[[111.74351759]\n [ 98.41335251]\n [168.36373195]\n [255.05882934]\n [168.43764643]\n [117.60982186]\n [198.86966323]\n [126.28961941]\n [117.73121787]\n [224.83346984]]\n2858.2551533228366\n"
     ]
    }
   ],
   "source": [
    "import numpy as np\n",
    "import sklearn as sn\n",
    "import pandas as pd\n",
    "from pandas import DataFrame\n",
    "from sklearn.model_selection import train_test_split\n",
    "from sklearn.datasets import load_diabetes\n",
    "from sklearn.linear_model import LinearRegression\n",
    "from sklearn.metrics import mean_squared_error\n",
    "\n",
    "diabetes = load_diabetes()\n",
    "X, y = diabetes.data, diabetes.target\n",
    "\n",
    "X = pd.DataFrame(data=X, columns=diabetes.feature_names)\n",
    "y = pd.DataFrame(data=y, columns=['target'])\n",
    "\n",
    "# 1.\n",
    "X_train, X_test, y_train, y_test = train_test_split(X, y,test_size=0.20, random_state=43)\n",
    "\n",
    "# testing\n",
    "print('y_train: ', y_train.values[:10])\n",
    "print('y_test: ', y_test.values[:10])\n",
    "\n",
    "# 2.\n",
    "regr = LinearRegression()\n",
    "regr.fit(X_train, y_train)\n",
    "\n",
    "coefficients = pd.concat([pd.DataFrame(X.columns),pd.DataFrame(np.transpose(regr.coef_))], axis = 1)\n",
    "\n",
    "print(coefficients)\n",
    "# testing\n",
    "print('intercept: \\n', regr.intercept_)\n",
    "\n",
    "# 3.\n",
    "predictions_on_test = regr.predict(X_test)\n",
    "\n",
    "# testing\n",
    "print(predictions_on_test[:10])\n",
    "\n",
    "# 4.\n",
    "def compute_mse(y_true, y_pred):\n",
    "    # we can use numpy to do the same thing\n",
    "    # MSE = np.square(np.subtract(y_true, y_pred)).mean()\n",
    "    return mean_squared_error(y_true, y_pred)\n",
    "\n",
    "print(compute_mse(y_test, predictions_on_test))"
   ]
  }
 ]
}