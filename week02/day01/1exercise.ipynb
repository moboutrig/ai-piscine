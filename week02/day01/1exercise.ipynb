{
 "metadata": {
  "language_info": {
   "codemirror_mode": {
    "name": "ipython",
    "version": 3
   },
   "file_extension": ".py",
   "mimetype": "text/x-python",
   "name": "python",
   "nbconvert_exporter": "python",
   "pygments_lexer": "ipython3",
   "version": "3.6.9"
  },
  "orig_nbformat": 2,
  "kernelspec": {
   "name": "python3",
   "display_name": "Python 3.6.9 64-bit",
   "metadata": {
    "interpreter": {
     "hash": "31f2aee4e71d21fbe5cf8b01ff0e069b9275f58929596ceb00d14d90e3e16cd6"
    }
   }
  }
 },
 "nbformat": 4,
 "nbformat_minor": 2,
 "cells": [
  {
   "source": [
    "\n",
    "# Exercise 1 Scikit-learn estimator\n",
    "\n",
    "The goal of this exercise is to learn to fit a Scikit-learn estimator and use it to predict.\n",
    "\n",
    "```console\n",
    "X, y = [[1],[2.1],[3]], [[1],[2],[3]]\n",
    "```\n",
    "\n",
    "1. Fit a LinearRegression from Scikit-learn with X the features and y the target.\n",
    "\n",
    "2. Predict for `x_pred = [[4]]`\n",
    "\n",
    "3. Print the coefficients (`coefs_`) and the intercept (`intercept_`), the score (`score`)of the regression of X and y.\n"
   ],
   "cell_type": "markdown",
   "metadata": {}
  },
  {
   "cell_type": "code",
   "execution_count": 80,
   "metadata": {},
   "outputs": [
    {
     "output_type": "stream",
     "name": "stdout",
     "text": [
      "[[3.96013289]]\n",
      "Coefficients: \n",
      " [[0.99667774]]\n",
      "intercept: \n",
      " [-0.02657807]\n",
      "Coefficient of determination (score): \n",
      " 0.9966777408637874\n",
      "/home/lee/.local/lib/python3.6/site-packages/numpy/core/_asarray.py:136: VisibleDeprecationWarning: Creating an ndarray from ragged nested sequences (which is a list-or-tuple of lists-or-tuples-or ndarrays with different lengths or shapes) is deprecated. If you meant to do this, you must specify 'dtype=object' when creating the ndarray\n",
      "  return array(a, dtype, copy=False, order=order, subok=True)\n"
     ]
    },
    {
     "output_type": "display_data",
     "data": {
      "text/plain": "<Figure size 432x288 with 1 Axes>",
      "image/svg+xml": "<?xml version=\"1.0\" encoding=\"utf-8\" standalone=\"no\"?>\n<!DOCTYPE svg PUBLIC \"-//W3C//DTD SVG 1.1//EN\"\n  \"http://www.w3.org/Graphics/SVG/1.1/DTD/svg11.dtd\">\n<!-- Created with matplotlib (https://matplotlib.org/) -->\n<svg height=\"235.34pt\" version=\"1.1\" viewBox=\"0 0 352.7 235.34\" width=\"352.7pt\" xmlns=\"http://www.w3.org/2000/svg\" xmlns:xlink=\"http://www.w3.org/1999/xlink\">\n <metadata>\n  <rdf:RDF xmlns:cc=\"http://creativecommons.org/ns#\" xmlns:dc=\"http://purl.org/dc/elements/1.1/\" xmlns:rdf=\"http://www.w3.org/1999/02/22-rdf-syntax-ns#\">\n   <cc:Work>\n    <dc:type rdf:resource=\"http://purl.org/dc/dcmitype/StillImage\"/>\n    <dc:date>2021-04-14T18:01:11.201987</dc:date>\n    <dc:format>image/svg+xml</dc:format>\n    <dc:creator>\n     <cc:Agent>\n      <dc:title>Matplotlib v3.3.4, https://matplotlib.org/</dc:title>\n     </cc:Agent>\n    </dc:creator>\n   </cc:Work>\n  </rdf:RDF>\n </metadata>\n <defs>\n  <style type=\"text/css\">*{stroke-linecap:butt;stroke-linejoin:round;}</style>\n </defs>\n <g id=\"figure_1\">\n  <g id=\"patch_1\">\n   <path d=\"M 0 235.34 \nL 352.7 235.34 \nL 352.7 0 \nL 0 0 \nz\n\" style=\"fill:none;\"/>\n  </g>\n  <g id=\"axes_1\">\n   <g id=\"patch_2\">\n    <path d=\"M 10.7 224.64 \nL 345.5 224.64 \nL 345.5 7.2 \nL 10.7 7.2 \nz\n\" style=\"fill:#ffffff;\"/>\n   </g>\n   <g id=\"PathCollection_1\">\n    <defs>\n     <path d=\"M 0 3 \nC 0.795609 3 1.55874 2.683901 2.12132 2.12132 \nC 2.683901 1.55874 3 0.795609 3 0 \nC 3 -0.795609 2.683901 -1.55874 2.12132 -2.12132 \nC 1.55874 -2.683901 0.795609 -3 0 -3 \nC -0.795609 -3 -1.55874 -2.683901 -2.12132 -2.12132 \nC -2.683901 -1.55874 -3 -0.795609 -3 0 \nC -3 0.795609 -2.683901 1.55874 -2.12132 2.12132 \nC -1.55874 2.683901 -0.795609 3 0 3 \nz\n\" id=\"m9370efa0aa\" style=\"stroke:#000000;\"/>\n    </defs>\n    <g clip-path=\"url(#pb701e67629)\">\n     <use style=\"stroke:#000000;\" x=\"102.009091\" xlink:href=\"#m9370efa0aa\" y=\"164.840683\"/>\n     <use style=\"stroke:#000000;\" x=\"185.709091\" xlink:href=\"#m9370efa0aa\" y=\"114.925003\"/>\n     <use style=\"stroke:#000000;\" x=\"254.190909\" xlink:href=\"#m9370efa0aa\" y=\"65.009323\"/>\n     <use style=\"stroke:#000000;\" x=\"330.281818\" xlink:href=\"#m9370efa0aa\" y=\"17.083636\"/>\n    </g>\n   </g>\n   <g id=\"matplotlib.axis_1\"/>\n   <g id=\"matplotlib.axis_2\"/>\n   <g id=\"line2d_1\">\n    <path clip-path=\"url(#pb701e67629)\" d=\"M 25.918182 214.756364 \nL 330.281818 17.083636 \n\" style=\"fill:none;stroke:#0000ff;stroke-linecap:square;stroke-width:1.5;\"/>\n   </g>\n   <g id=\"patch_3\">\n    <path d=\"M 10.7 224.64 \nL 10.7 7.2 \n\" style=\"fill:none;stroke:#000000;stroke-linecap:square;stroke-linejoin:miter;stroke-width:0.8;\"/>\n   </g>\n   <g id=\"patch_4\">\n    <path d=\"M 345.5 224.64 \nL 345.5 7.2 \n\" style=\"fill:none;stroke:#000000;stroke-linecap:square;stroke-linejoin:miter;stroke-width:0.8;\"/>\n   </g>\n   <g id=\"patch_5\">\n    <path d=\"M 10.7 224.64 \nL 345.5 224.64 \n\" style=\"fill:none;stroke:#000000;stroke-linecap:square;stroke-linejoin:miter;stroke-width:0.8;\"/>\n   </g>\n   <g id=\"patch_6\">\n    <path d=\"M 10.7 7.2 \nL 345.5 7.2 \n\" style=\"fill:none;stroke:#000000;stroke-linecap:square;stroke-linejoin:miter;stroke-width:0.8;\"/>\n   </g>\n  </g>\n </g>\n <defs>\n  <clipPath id=\"pb701e67629\">\n   <rect height=\"217.44\" width=\"334.8\" x=\"10.7\" y=\"7.2\"/>\n  </clipPath>\n </defs>\n</svg>\n",
      "image/png": "[encoded data removed]"
     },
     "metadata": {}
    }
   ],
   "source": [
    "import numpy as np\n",
    "import sklearn as sn\n",
    "from sklearn.linear_model import LinearRegression\n",
    "import matplotlib.pyplot as plt\n",
    "\n",
    "X, y = np.array([[1],[2.1],[3]]), np.array([[1],[2],[3]])\n",
    "\n",
    "\n",
    "# use only one feature\n",
    "# this will on put one value in each array not neede for this exercise\n",
    "# X = X[: np.newaxis]\n",
    "# y = y[: np.newaxis]\n",
    "\n",
    "\n",
    "# split the data into training/testing sets\n",
    "# X_train = X[:-3]\n",
    "# X_test = X[-3:]\n",
    "\n",
    "# split the targets into training/testing sets\n",
    "# y_train = y[:-3]\n",
    "# y_test = y[-3:]\n",
    "\n",
    "# create a linear regression object\n",
    "regr = LinearRegression()\n",
    "\n",
    "# train the model using the training sets\n",
    "regr.fit(X, y)\n",
    "\n",
    "y_pred = regr.predict(np.array([[4]]))\n",
    "\n",
    "# test the prediction\n",
    "print(y_pred)\n",
    "\n",
    "print('Coefficients: \\n', regr.coef_)\n",
    "print('intercept: \\n', regr.intercept_)\n",
    "print('Coefficient of determination (score): \\n', regr.score(X, y))\n",
    "ay = np.append(y, y_pred[0:,0])\n",
    "ax = np.append(X, [4])\n",
    "# Plot outputs\n",
    "plt.scatter(ax, ay,  color='black')\n",
    "plt.plot([[0], [4]], [[0], y_pred], color='blue')\n",
    "\n",
    "plt.xticks(())\n",
    "plt.yticks(())\n",
    "\n",
    "plt.show()\n"
   ]
  }
 ]
}