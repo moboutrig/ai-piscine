{
 "metadata": {
  "language_info": {
   "codemirror_mode": {
    "name": "ipython",
    "version": 3
   },
   "file_extension": ".py",
   "mimetype": "text/x-python",
   "name": "python",
   "nbconvert_exporter": "python",
   "pygments_lexer": "ipython3",
   "version": "3.6.9"
  },
  "orig_nbformat": 2,
  "kernelspec": {
   "name": "python369jvsc74a57bd031f2aee4e71d21fbe5cf8b01ff0e069b9275f58929596ceb00d14d90e3e16cd6",
   "display_name": "Python 3.6.9 64-bit"
  },
  "metadata": {
   "interpreter": {
    "hash": "31f2aee4e71d21fbe5cf8b01ff0e069b9275f58929596ceb00d14d90e3e16cd6"
   }
  }
 },
 "nbformat": 4,
 "nbformat_minor": 2,
 "cells": [
  {
   "source": [
    "# Exercise 4: Train test split\n",
    "\n",
    "The goal of this exercise is to learn to split a classification data set. The idea is the same as splitting a regression data set but there's one important detail specific to the classification: the proportion of each class in the train set and test set.  \n",
    "\n",
    "```python\n",
    "   X = np.arange(1,21).reshape(10,-1)\n",
    "   y = np.zeros(10)\n",
    "   y[7:] = 1\n",
    "```\n",
    "\n",
    "1. Split the data using `train_test_split` with `shuffle=False`. The test set represents 20% of the total size of the data set. Print X_train, y_train, X_test, y_test. Compute the proportion of class `1` on the train set and test set.\n",
    "\n",
    "2. Having a train set with different properties than the test set is not recommended. The analogy of the exam (https://www.youtube.com/watch?v=_vdMKioCXqQ) helps to understand this point: if the questions you have at the exam are completely different from what you prepared for you are not evaluated on what you learnt. The training set has to be representative of the data set. Now, split the data in a train set and test set, but keep the proportion of class `1` nearly constant. The parameter `shuffle` in theory works as it relies on a random sampling. The parameter `stratify` will always split the data and keep the same proportion of class `1` in the train set and test set. Using the parameter `stratify` split the data below and print the proportion of class `1` in the train set and train set.\n",
    "\n",
    "```python\n",
    "   X = np.arange(1,201).reshape(100,-1)\n",
    "   y = np.zeros(100)\n",
    "   y[70:] = 1\n",
    "```"
   ],
   "cell_type": "markdown",
   "metadata": {}
  },
  {
   "cell_type": "code",
   "execution_count": 16,
   "metadata": {},
   "outputs": [
    {
     "output_type": "stream",
     "name": "stdout",
     "text": [
      "[[ 1  2]\n [ 3  4]\n [ 5  6]\n [ 7  8]\n [ 9 10]\n [11 12]\n [13 14]\n [15 16]\n [17 18]\n [19 20]]\n[0. 0. 0. 0. 0. 0. 0. 1. 1. 1.]\nX_train [[ 1  2]\n [ 3  4]\n [ 5  6]\n [ 7  8]\n [ 9 10]\n [11 12]\n [13 14]\n [15 16]]\ny_train [0. 0. 0. 0. 0. 0. 0. 1.]\nX_test [[17 18]\n [19 20]]\ny_test [1. 1.]\nportion of class 1 train: 0.125\nportion of class 1 test: 1.0\n"
     ]
    }
   ],
   "source": [
    "import numpy as np\n",
    "from sklearn.linear_model import LogisticRegression\n",
    "from sklearn.datasets import make_classification\n",
    "from sklearn.model_selection import train_test_split\n",
    "\n",
    "X = np.arange(1,21).reshape(10,-1)\n",
    "y = np.zeros(10)\n",
    "y[7:] = 1\n",
    "\n",
    "X_train, X_test, y_train, y_test = train_test_split(X, y, test_size=0.20, shuffle=False)\n",
    "\n",
    "# 1.\n",
    "print('X_train', X_train)\n",
    "print('y_train', y_train)\n",
    "print('X_test', X_test)\n",
    "print('y_test', y_test)\n",
    "print('portion of class 1 train:', (y_train == 1).sum()/len(y_train))\n",
    "print('portion of class 1 test:', (y_test == 1).sum()/len(y_test))"
   ]
  },
  {
   "cell_type": "code",
   "execution_count": 14,
   "metadata": {},
   "outputs": [
    {
     "output_type": "stream",
     "name": "stdout",
     "text": [
      "portion of class 1 train: 0.3\nportion of class 1 test: 0.3\n"
     ]
    }
   ],
   "source": [
    "# 2.\n",
    "# all the explination is in the point 2\n",
    "X = np.arange(1,201).reshape(100,-1)\n",
    "y = np.zeros(100)\n",
    "y[70:] = 1\n",
    "\n",
    "X_train, X_test, y_train, y_test = train_test_split(X, y, test_size=0.20, stratify=y)\n",
    "\n",
    "print('portion of class 1 train:', (y_train == 1).sum()/len(y_train))\n",
    "print('portion of class 1 test:', (y_test == 1).sum()/len(y_test))"
   ]
  }
 ]
}