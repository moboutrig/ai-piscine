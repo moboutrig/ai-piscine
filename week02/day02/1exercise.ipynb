{
 "metadata": {
  "language_info": {
   "codemirror_mode": {
    "name": "ipython",
    "version": 3
   },
   "file_extension": ".py",
   "mimetype": "text/x-python",
   "name": "python",
   "nbconvert_exporter": "python",
   "pygments_lexer": "ipython3",
   "version": "3.6.9"
  },
  "orig_nbformat": 2,
  "kernelspec": {
   "name": "python369jvsc74a57bd031f2aee4e71d21fbe5cf8b01ff0e069b9275f58929596ceb00d14d90e3e16cd6",
   "display_name": "Python 3.6.9 64-bit"
  },
  "metadata": {
   "interpreter": {
    "hash": "31f2aee4e71d21fbe5cf8b01ff0e069b9275f58929596ceb00d14d90e3e16cd6"
   }
  }
 },
 "nbformat": 4,
 "nbformat_minor": 2,
 "cells": [
  {
   "source": [
    "\n",
    "# Exercise 1 Logistic regression in Scikit-learn\n",
    "\n",
    "The goal of this exercise is to learn to use Scikit-learn to classify data.\n",
    "\n",
    "```console\n",
    "X = [[0],[0.1],[0.2], [1],[1.1],[1.2], [1.3]]\n",
    "y = [0,0,0,1,1,1,0]\n",
    "```\n",
    "\n",
    "1. Fit a Logistic regression on X and y.\n",
    "\n",
    "2. Predict the class for `x_pred = [[0.5]]`.\n",
    "\n",
    "3. Predict the probabilities for `x_pred = [[0.5]]` using `predict_proba`.\n",
    "\n",
    "4. Print the coefficients (`coefs_`), the intercept (`intercept_`) and the score of the logistic regression of X and y.\n"
   ],
   "cell_type": "markdown",
   "metadata": {}
  },
  {
   "cell_type": "code",
   "execution_count": 6,
   "metadata": {},
   "outputs": [
    {
     "output_type": "stream",
     "name": "stdout",
     "text": [
      "LogisticRegression(random_state=0)\n[0]\n[[0.61450526 0.38549474]]\nscore: 0.7142857142857143\ncoefficient: [[0.81786797]]\ninterception: [-0.87522391]\n"
     ]
    }
   ],
   "source": [
    "from sklearn.linear_model import LogisticRegression\n",
    "\n",
    "X = [[0],[0.1],[0.2], [1],[1.1],[1.2], [1.3]]\n",
    "y = [0,0,0,1,1,1,0]\n",
    "\n",
    "# 1.\n",
    "clf = LogisticRegression(random_state=0).fit(X, y)\n",
    "\n",
    "# testing\n",
    "print(clf)\n",
    "\n",
    "# 2.\n",
    "x_pred = clf.predict([[0.5]])\n",
    "\n",
    "# testing\n",
    "print(x_pred)\n",
    "\n",
    "# 3.\n",
    "p_x_pred = clf.predict_proba([[0.5]])\n",
    "\n",
    "# testing\n",
    "print(p_x_pred)\n",
    "\n",
    "# 4.\n",
    "print('coefficient:', clf.coef_)\n",
    "print('interception:', clf.intercept_)\n",
    "print('score:', clf.score(X, y))"
   ]
  }
 ]
}