{
 "metadata": {
  "language_info": {
   "codemirror_mode": {
    "name": "ipython",
    "version": 3
   },
   "file_extension": ".py",
   "mimetype": "text/x-python",
   "name": "python",
   "nbconvert_exporter": "python",
   "pygments_lexer": "ipython3",
   "version": "3.6.9"
  },
  "orig_nbformat": 2,
  "kernelspec": {
   "name": "python369jvsc74a57bd031f2aee4e71d21fbe5cf8b01ff0e069b9275f58929596ceb00d14d90e3e16cd6",
   "display_name": "Python 3.6.9 64-bit"
  },
  "metadata": {
   "interpreter": {
    "hash": "31f2aee4e71d21fbe5cf8b01ff0e069b9275f58929596ceb00d14d90e3e16cd6"
   }
  }
 },
 "nbformat": 4,
 "nbformat_minor": 2,
 "cells": [
  {
   "source": [
    "\n",
    "# Exercise 3 Regression\n",
    "\n",
    "The goal of this exercise is to learn to evaluate a machine learning model using many regression metrics.\n",
    "\n",
    "Preliminary:\n",
    "\n",
    "- Import California Housing data set and split it in a train set and a test set (10%). Fit a linear regression on the data set. *The goal is focus on the metrics, that is why the code to fit the Linear Regression is given.*\n",
    "\n",
    "```python\n",
    "#imports\n",
    "from sklearn.datasets import fetch_california_housing\n",
    "from sklearn.model_selection import train_test_split\n",
    "from sklearn.linear_model import LinearRegression\n",
    "from sklearn.preprocessing import StandardScaler\n",
    "from sklearn.impute import SimpleImputer\n",
    "from sklearn.pipeline import Pipeline\n",
    "#data\n",
    "housing = fetch_california_housing()\n",
    "X, y = housing['data'], housing['target']\n",
    "#split data train test \n",
    "X_train, X_test, y_train, y_test = train_test_split(X,\n",
    "                                                    y,\n",
    "                                                    test_size=0.1,\n",
    "                                                    shuffle=True,\n",
    "                                                    random_state=13)\n",
    "#pipeline \n",
    "pipeline = [('imputer', SimpleImputer(strategy='median')),\n",
    "            ('scaler', StandardScaler()),\n",
    "            ('lr', LinearRegression())]\n",
    "pipe = Pipeline(pipeline)\n",
    "#fit\n",
    "pipe.fit(X_train, y_train)\n",
    "```\n",
    "\n",
    "1. Predict on the train set and test set\n",
    "\n",
    "2. Compute R2, Mean Square Error, Mean Absolute Error on both train and test set\n"
   ],
   "cell_type": "markdown",
   "metadata": {}
  },
  {
   "cell_type": "code",
   "execution_count": 52,
   "metadata": {},
   "outputs": [
    {
     "output_type": "stream",
     "name": "stdout",
     "text": [
      "[1.54505951 2.21338527 2.2636205  3.3258957  1.51710076 1.63209319\n 2.9265211  0.78080924 1.21968217 0.72656239]\n[ 1.82212706  1.98357668  0.80547979 -0.19259114  1.76072418  3.27855815\n  2.12056804  1.96099917  2.38239663  1.21005304]\nr2 on the train set: 0.3552292936915785\nMAE on the train set: 0.5300159371615256\nMSE on the train set: 0.5210784446797678\n----------------\nr2 on the test set: 0.30265471284464673\nMAE on the test set: 0.5454023699809112\nMSE on the test set: 0.5537420654727397\n"
     ]
    }
   ],
   "source": [
    "from sklearn.datasets import fetch_california_housing\n",
    "from sklearn.model_selection import train_test_split\n",
    "from sklearn.linear_model import LinearRegression\n",
    "from sklearn.preprocessing import StandardScaler\n",
    "from sklearn.impute import SimpleImputer\n",
    "from sklearn.pipeline import Pipeline\n",
    "from sklearn.metrics import mean_squared_error, r2_score, mean_absolute_error\n",
    "\n",
    "# data\n",
    "housing = fetch_california_housing()\n",
    "X, y = housing['data'], housing['target']\n",
    "# split data train test \n",
    "X_train, X_test, y_train, y_test = train_test_split(X,\n",
    "                                                    y,\n",
    "                                                    test_size=0.1,\n",
    "                                                    shuffle=True,\n",
    "                                                    random_state=13)\n",
    "# pipeline \n",
    "pipeline = [('imputer', SimpleImputer(strategy='median')),\n",
    "            ('scaler', StandardScaler()),\n",
    "            ('lr', LinearRegression())]\n",
    "pipe = Pipeline(pipeline)\n",
    "\n",
    "# fit\n",
    "pipe.fit(X_train, y_train)\n",
    "\n",
    "# 1.\n",
    "y_pred_train = pipe.predict(X_train) \n",
    "y_pred_test = pipe.predict(X_test)\n",
    "\n",
    "# testing\n",
    "print(y_pred_train[:10])\n",
    "print(y_pred_test[:10])\n",
    "\n",
    "# 2.\n",
    "r2_train = r2_score(y_pred_train, y_train)\n",
    "mse_train = mean_squared_error(y_train, y_pred_train)\n",
    "mae_train = mean_absolute_error(y_train, y_pred_train)\n",
    "\n",
    "print('r2 on the train set:', r2_train)\n",
    "print('MAE on the train set:', mae_train)\n",
    "print('MSE on the train set:', mse_train)\n",
    "\n",
    "r2_test = r2_score(y_pred_test, y_test)\n",
    "mse_test = mean_squared_error(y_test, y_pred_test)\n",
    "mae_test = mean_absolute_error(y_test, y_pred_test)\n",
    "\n",
    "print('----------------')\n",
    "print('r2 on the test set:', r2_test)\n",
    "print('MAE on the test set:', mae_test)\n",
    "print('MSE on the test set:', mse_test)\n",
    "\n",
    "# This result shows that the model has slightly better results on the train set than the test set. That's frequent since it is easier to get a better grade on an exam we studied than an exam that is different from what was prepared. However, the results are not good: r2 ~ 0.3. Fitting non linear models as the Random Forest on this data may improve the results. That's the goal of the exercise 5.\n",
    "\n"
   ]
  }
 ]
}