{
 "metadata": {
  "language_info": {
   "codemirror_mode": {
    "name": "ipython",
    "version": 3
   },
   "file_extension": ".py",
   "mimetype": "text/x-python",
   "name": "python",
   "nbconvert_exporter": "python",
   "pygments_lexer": "ipython3",
   "version": "3.6.9"
  },
  "orig_nbformat": 2,
  "kernelspec": {
   "name": "python369jvsc74a57bd031f2aee4e71d21fbe5cf8b01ff0e069b9275f58929596ceb00d14d90e3e16cd6",
   "display_name": "Python 3.6.9 64-bit"
  },
  "metadata": {
   "interpreter": {
    "hash": "31f2aee4e71d21fbe5cf8b01ff0e069b9275f58929596ceb00d14d90e3e16cd6"
   }
  }
 },
 "nbformat": 4,
 "nbformat_minor": 2,
 "cells": [
  {
   "source": [
    "\n",
    "# Exercise 1 MSE Scikit-learn \n",
    "\n",
    "The goal of this exercise is to learn to use `sklearn.metrics` to compute the mean squared error (MSE).\n",
    "\n",
    "1. Compute the MSE using `sklearn.metrics` on `y_true` and `y_pred` below:\n",
    "\n",
    "```python\n",
    "y_true = [91, 51, 2.5, 2, -5]\n",
    "y_pred = [90, 48, 2, 2, -4]\n",
    "```\n"
   ],
   "cell_type": "markdown",
   "metadata": {}
  },
  {
   "cell_type": "code",
   "execution_count": 1,
   "metadata": {},
   "outputs": [
    {
     "output_type": "stream",
     "name": "stdout",
     "text": [
      "2.25\n"
     ]
    }
   ],
   "source": [
    "from sklearn.metrics import mean_squared_error\n",
    "\n",
    "y_true = [91, 51, 2.5, 2, -5]\n",
    "y_pred = [90, 48, 2, 2, -4]\n",
    "\n",
    "print(mean_squared_error(y_true, y_pred))"
   ]
  }
 ]
}