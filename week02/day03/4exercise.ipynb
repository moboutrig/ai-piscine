{
 "metadata": {
  "language_info": {
   "codemirror_mode": {
    "name": "ipython",
    "version": 3
   },
   "file_extension": ".py",
   "mimetype": "text/x-python",
   "name": "python",
   "nbconvert_exporter": "python",
   "pygments_lexer": "ipython3",
   "version": "3.6.9"
  },
  "orig_nbformat": 2,
  "kernelspec": {
   "name": "python369jvsc74a57bd031f2aee4e71d21fbe5cf8b01ff0e069b9275f58929596ceb00d14d90e3e16cd6",
   "display_name": "Python 3.6.9 64-bit"
  },
  "metadata": {
   "interpreter": {
    "hash": "31f2aee4e71d21fbe5cf8b01ff0e069b9275f58929596ceb00d14d90e3e16cd6"
   }
  }
 },
 "nbformat": 4,
 "nbformat_minor": 2,
 "cells": [
  {
   "source": [
    "\n",
    "# Exercise 4 Ordinal Encoder\n",
    "\n",
    "The goal of this exercise is to learn how to deal with Categorical variables using the Ordinal Encoder.\n",
    "\n",
    "In that case, we want the model to consider that: **good > neutral > bad**\n",
    "\n",
    "```python\n",
    "X_train = [['good'], ['bad'], ['neutral']]\n",
    "```\n",
    "\n",
    "1. Fit the `OrdinalEncoder` by specifying the categories in the following order: `categories=[['bad', 'neutral', 'good']]`. Transform the train set. Print the `categories_`\n",
    "\n",
    "2. Transform the X_test using the fitted Ordinal Encoder on train set.\n",
    "\n",
    "```python\n",
    "X_test = [['good'], ['good'], ['bad']]\n",
    "```\n",
    "\n",
    "*Note: In the version 0.22 of Scikit-learn, the Ordinal Encoder doesn't handle new values in the test set. But it will be possible in the version 0.24 !*\n"
   ],
   "cell_type": "markdown",
   "metadata": {}
  },
  {
   "cell_type": "code",
   "execution_count": 8,
   "metadata": {},
   "outputs": [
    {
     "output_type": "stream",
     "name": "stdout",
     "text": [
      "[[2.]\n [0.]\n [1.]]\n[array(['bad', 'neutral', 'good'], dtype=object)]\n[[2.]\n [2.]\n [0.]]\n"
     ]
    }
   ],
   "source": [
    "import numpy as np\n",
    "from pandas import DataFrame\n",
    "from sklearn.preprocessing import OrdinalEncoder\n",
    "\n",
    "# 1.\n",
    "enc = OrdinalEncoder(categories=[['bad', 'neutral', 'good']])\n",
    "X_train = [['good'], ['bad'], ['neutral']]\n",
    "enc.fit(X_train)\n",
    "out_train = enc.transform(X_train)\n",
    "\n",
    "print(out_train)\n",
    "print(enc.categories_)\n",
    "\n",
    "# 2.\n",
    "enc_test = OrdinalEncoder(categories=[['bad', 'neutral', 'good']])\n",
    "X_test = [['good'], ['good'], ['bad']]\n",
    "enc_test.fit(X_test)\n",
    "out_test = enc_test.transform(X_test)\n",
    "\n",
    "print(out_test)"
   ]
  }
 ]
}