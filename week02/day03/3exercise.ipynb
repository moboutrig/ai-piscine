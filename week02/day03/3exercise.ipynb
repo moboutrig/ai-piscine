{
 "metadata": {
  "language_info": {
   "codemirror_mode": {
    "name": "ipython",
    "version": 3
   },
   "file_extension": ".py",
   "mimetype": "text/x-python",
   "name": "python",
   "nbconvert_exporter": "python",
   "pygments_lexer": "ipython3",
   "version": "3.6.9"
  },
  "orig_nbformat": 2,
  "kernelspec": {
   "name": "python369jvsc74a57bd031f2aee4e71d21fbe5cf8b01ff0e069b9275f58929596ceb00d14d90e3e16cd6",
   "display_name": "Python 3.6.9 64-bit"
  },
  "metadata": {
   "interpreter": {
    "hash": "31f2aee4e71d21fbe5cf8b01ff0e069b9275f58929596ceb00d14d90e3e16cd6"
   }
  }
 },
 "nbformat": 4,
 "nbformat_minor": 2,
 "cells": [
  {
   "source": [
    "\n",
    "# Exercise 3 One hot Encoder\n",
    "\n",
    "The goal of this exercise is to learn how to deal with Categorical variables using the OneHot Encoder.\n",
    "\n",
    "```python\n",
    "X_train = [['Python'], ['Java'], ['Java'], ['C++']]\n",
    "```\n",
    "\n",
    "1. Using `OneHotEncoder` with `handle_unknown='ignore'`, fit the One Hot Encoder and transform X_train. The expected output is:\n",
    "\n",
    "    |    |   ('C++',) |   ('Java',) |   ('Python',) |\n",
    "    |---:|-----------:|------------:|--------------:|\n",
    "    |  0 |          0 |           0 |             1 |\n",
    "    |  1 |          0 |           1 |             0 |\n",
    "    |  2 |          0 |           1 |             0 |\n",
    "    |  3 |          1 |           0 |             0 |\n",
    "\n",
    "    To get this output create a DataFrame from the transformed X_train and the attribute `categories_`.\n",
    "\n",
    "2. Transform X_test using the fitted One Hot Encoder on the train set.\n",
    "\n",
    "```python\n",
    "X_test = [['Python'], ['Java'], ['C'], ['C++']]\n",
    "```\n",
    "\n",
    "The expected output is:\n",
    "\n",
    "|    |   ('C++',) |   ('Java',) |   ('Python',) |\n",
    "|---:|-----------:|------------:|--------------:|\n",
    "|  0 |          0 |           0 |             1 |\n",
    "|  1 |          0 |           1 |             0 |\n",
    "|  2 |          0 |           0 |             0 |\n",
    "|  3 |          1 |           0 |             0 |\n",
    "\n",
    "- https://scikit-learn.org/stable/modules/generated/sklearn.preprocessing.OneHotEncoder.html\n"
   ],
   "cell_type": "markdown",
   "metadata": {}
  },
  {
   "cell_type": "code",
   "execution_count": 25,
   "metadata": {},
   "outputs": [
    {
     "output_type": "stream",
     "name": "stdout",
     "text": [
      "   C++ Java Python\n0  0.0  0.0    1.0\n1  0.0  1.0    0.0\n2  0.0  1.0    0.0\n3  1.0  0.0    0.0\n---------\n   C++ Java Python\n0  0.0  0.0    1.0\n1  0.0  1.0    0.0\n2  0.0  0.0    0.0\n3  1.0  0.0    0.0\n"
     ]
    }
   ],
   "source": [
    "import numpy as np\n",
    "from pandas import DataFrame\n",
    "from sklearn.preprocessing import OneHotEncoder\n",
    "\n",
    "X_train = [['Python'], ['Java'], ['Java'], ['C++']]\n",
    "\n",
    "# 1.\n",
    "enc = OneHotEncoder(handle_unknown='ignore').fit(X_train)\n",
    "a = enc.transform(X_train).toarray()\n",
    "df = DataFrame(a, columns=enc.categories_)\n",
    "print(df)\n",
    "\n",
    "# 2.\n",
    "X_test = [['Python'], ['Java'], ['C'], ['C++']]\n",
    "\n",
    "enc_test = OneHotEncoder(handle_unknown='ignore').fit(X_train)\n",
    "a_test = enc_test.transform(X_test).toarray()\n",
    "df = DataFrame(a_test, columns=enc_test.categories_)\n",
    "print('---------')\n",
    "print(df)\n",
    "\n"
   ]
  }
 ]
}