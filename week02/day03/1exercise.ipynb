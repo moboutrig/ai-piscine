{
 "metadata": {
  "language_info": {
   "codemirror_mode": {
    "name": "ipython",
    "version": 3
   },
   "file_extension": ".py",
   "mimetype": "text/x-python",
   "name": "python",
   "nbconvert_exporter": "python",
   "pygments_lexer": "ipython3",
   "version": "3.6.9"
  },
  "orig_nbformat": 2,
  "kernelspec": {
   "name": "python369jvsc74a57bd031f2aee4e71d21fbe5cf8b01ff0e069b9275f58929596ceb00d14d90e3e16cd6",
   "display_name": "Python 3.6.9 64-bit"
  },
  "metadata": {
   "interpreter": {
    "hash": "31f2aee4e71d21fbe5cf8b01ff0e069b9275f58929596ceb00d14d90e3e16cd6"
   }
  }
 },
 "nbformat": 4,
 "nbformat_minor": 2,
 "cells": [
  {
   "source": [
    "\n",
    "# Exercise 1 Imputer 1\n",
    "\n",
    "The goal of this exercise is to learn how to use an Imputer to fill missing values on basic example.\n",
    "\n",
    "```python\n",
    "train_data = [[7, 6, 5], \n",
    "              [4, np.nan, 5], \n",
    "              [1, 20, 8]]\n",
    "```\n",
    "\n",
    "1. Fit the `SimpleImputer` on the data. Print the `statistics_`. Check that the statistics match `np.nanmean(train_data, axis=0)`.\n",
    "\n",
    "2. Fill the missing values in `train_data` using the fitted imputer and `transform`.\n",
    "\n",
    "3. Fill the missing values in `test_data` using the fitted imputer and `transform`.\n",
    "\n",
    "```python\n",
    "test_data = [[np.nan, 1, 2], \n",
    "             [7, np.nan, 9], \n",
    "             [np.nan, 2, 4]]\n",
    "```\n"
   ],
   "cell_type": "markdown",
   "metadata": {}
  },
  {
   "cell_type": "code",
   "execution_count": 19,
   "metadata": {},
   "outputs": [
    {
     "output_type": "stream",
     "name": "stdout",
     "text": [
      "[ 4. 13.  6.]\n[ 4. 13.  6.]\n---------\n[[ 7.  6.  5.]\n [ 4. 13.  5.]\n [ 1. 20.  8.]]\n---------\n[[ 4.  1.  2.]\n [ 7. 13.  9.]\n [ 4.  2.  4.]]\n"
     ]
    }
   ],
   "source": [
    "import numpy as np\n",
    "from sklearn.impute import SimpleImputer\n",
    "\n",
    "train_data = [[7, 6, 5], \n",
    "              [4, np.nan, 5], \n",
    "              [1, 20, 8]]\n",
    "\n",
    "# 1.\n",
    "imp_mean = SimpleImputer(missing_values=np.nan, strategy='mean')\n",
    "imp_mean.fit(train_data)\n",
    "print(imp_mean.statistics_)\n",
    "\n",
    "# testing\n",
    "print(np.nanmean(train_data, axis=0))\n",
    "print('---------')\n",
    "\n",
    "# 2.\n",
    "print(imp_mean.transform(train_data))\n",
    "print('---------')\n",
    "\n",
    "# 3.\n",
    "test_data = [[np.nan, 1, 2],\n",
    "             [7, np.nan, 9],\n",
    "             [np.nan, 2, 4]]\n",
    "\n",
    "imp_mean1 = SimpleImputer(missing_values=np.nan, strategy='mean')\n",
    "imp_mean1.fit(test_data)\n",
    "print(imp_mean.transform(test_data))\n"
   ]
  }
 ]
}