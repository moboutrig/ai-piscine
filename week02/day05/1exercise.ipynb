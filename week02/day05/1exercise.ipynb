{
 "metadata": {
  "language_info": {
   "codemirror_mode": {
    "name": "ipython",
    "version": 3
   },
   "file_extension": ".py",
   "mimetype": "text/x-python",
   "name": "python",
   "nbconvert_exporter": "python",
   "pygments_lexer": "ipython3",
   "version": "3.6.9"
  },
  "orig_nbformat": 2,
  "kernelspec": {
   "name": "python369jvsc74a57bd031f2aee4e71d21fbe5cf8b01ff0e069b9275f58929596ceb00d14d90e3e16cd6",
   "display_name": "Python 3.6.9 64-bit"
  },
  "metadata": {
   "interpreter": {
    "hash": "31f2aee4e71d21fbe5cf8b01ff0e069b9275f58929596ceb00d14d90e3e16cd6"
   }
  }
 },
 "nbformat": 4,
 "nbformat_minor": 2,
 "cells": [
  {
   "source": [
    "\n",
    "# Exercise 1: K-Fold\n",
    "\n",
    "The goal of this exercise is to learn to use `KFold` to split the data set in a k-fold cross validation. Most of the time you won't use this function to split your data because this function is used by others as `cross_val_score` or `cross_validate` or `GridSearchCV` ... . But, this allows to understand the splitting and to create a custom one if needed.  \n",
    "\n",
    "```python\n",
    "X = np.array(np.arange(1,21).reshape(10,-1))\n",
    "y = np.array(np.arange(1,11))\n",
    "```\n",
    "\n",
    "1. Using `KFold`, perform a 5-fold cross validation. For each fold, print the train index and test index. The expected output is:\n",
    "\n",
    "    ```console\n",
    "    Fold:  1\n",
    "    TRAIN: [2 3 4 5 6 7 8 9] TEST: [0 1]\n",
    "\n",
    "    Fold:  2\n",
    "    TRAIN: [0 1 4 5 6 7 8 9] TEST: [2 3]\n",
    "\n",
    "    Fold:  3\n",
    "    TRAIN: [0 1 2 3 6 7 8 9] TEST: [4 5]\n",
    "\n",
    "    Fold:  4\n",
    "    TRAIN: [0 1 2 3 4 5 8 9] TEST: [6 7]\n",
    "\n",
    "    Fold:  5\n",
    "    TRAIN: [0 1 2 3 4 5 6 7] TEST: [8 9]\n",
    "    ```\n"
   ],
   "cell_type": "markdown",
   "metadata": {}
  },
  {
   "cell_type": "code",
   "execution_count": 8,
   "metadata": {},
   "outputs": [
    {
     "output_type": "stream",
     "name": "stdout",
     "text": [
      "[[ 1  2]\n [ 3  4]\n [ 5  6]\n [ 7  8]\n [ 9 10]\n [11 12]\n [13 14]\n [15 16]\n [17 18]\n [19 20]]\nTRAIN: [2 3 4 5 6 7 8 9] TEST: [0 1]\n[[ 5  6]\n [ 7  8]\n [ 9 10]\n [11 12]\n [13 14]\n [15 16]\n [17 18]\n [19 20]] [[1 2]\n [3 4]]\nTRAIN: [0 1 4 5 6 7 8 9] TEST: [2 3]\n[[ 1  2]\n [ 3  4]\n [ 9 10]\n [11 12]\n [13 14]\n [15 16]\n [17 18]\n [19 20]] [[5 6]\n [7 8]]\nTRAIN: [0 1 2 3 6 7 8 9] TEST: [4 5]\n[[ 1  2]\n [ 3  4]\n [ 5  6]\n [ 7  8]\n [13 14]\n [15 16]\n [17 18]\n [19 20]] [[ 9 10]\n [11 12]]\nTRAIN: [0 1 2 3 4 5 8 9] TEST: [6 7]\n[[ 1  2]\n [ 3  4]\n [ 5  6]\n [ 7  8]\n [ 9 10]\n [11 12]\n [17 18]\n [19 20]] [[13 14]\n [15 16]]\nTRAIN: [0 1 2 3 4 5 6 7] TEST: [8 9]\n[[ 1  2]\n [ 3  4]\n [ 5  6]\n [ 7  8]\n [ 9 10]\n [11 12]\n [13 14]\n [15 16]] [[17 18]\n [19 20]]\n"
     ]
    }
   ],
   "source": [
    "import numpy as np\n",
    "from sklearn.model_selection import KFold\n",
    "\n",
    "X = np.array(np.arange(1,21).reshape(10,-1))\n",
    "y = np.array(np.arange(1,11))\n",
    "\n",
    "kf = KFold(n_splits=5)\n",
    "kf.get_n_splits(X)\n",
    "\n",
    "print(X)\n",
    "\n",
    "for train_index, test_index in kf.split(X):\n",
    "    print(\"TRAIN:\", train_index, \"TEST:\", test_index)\n",
    "    # train_index as the name says its the index of the train\n",
    "    # same gost to the test_index\n",
    "    # then we can do this:\n",
    "    X_train, X_test = X[train_index], X[test_index]\n",
    "    y_train, y_test = y[train_index], y[test_index]\n"
   ]
  }
 ]
}