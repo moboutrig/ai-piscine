{
 "cells": [
  {
   "cell_type": "markdown",
   "metadata": {},
   "source": [
    "\n",
    "# Exercice 4 Handling missing values\n",
    "\n",
    "The goal of this exercise is to learn to handle missing values. In the previous exercise we used the first techniques: filter out the missing values. We were lucky because the proportion of missing values was low. But in some cases, dropping the missing values is not possible because the filtered data set would be too small.\n",
    "\n",
    "This article explains the different types of missing data and how they should be handled.\n",
    "\n",
    "https://towardsdatascience.com/data-cleaning-with-python-and-pandas-detecting-missing-values-3e9c6ebcf78b\n",
    "\n",
    "\"**It’s important to understand these different types of missing data from a statistics point of view. The type of missing data will influence how you deal with filling in the missing values.**\"\n",
    "\n",
    "1. Drop the `flower` column\n",
    "\n",
    "- Fill the missing values with a different \"strategy\" for each column:\n",
    "\n",
    "    `sepal_length` -> `mean`\n",
    "\n",
    "    `sepal_width` -> `median`\n",
    "\n",
    "    `petal_length`, `petal_width` -> `0`\n",
    "\n",
    "2. Explain why filling the missing values with 0 or the mean is a bad idea\n",
    "3. Fill the missing values using the median\n",
    "\n"
   ]
  },
  {
   "cell_type": "code",
   "execution_count": 30,
   "metadata": {},
   "outputs": [
    {
     "name": "stdout",
     "output_type": "stream",
     "text": [
      "       Unnamed: 0  sepal_length  sepal_width  petal_length  petal_width\n",
      "count  150.000000    146.000000   141.000000    120.000000   147.000000\n",
      "mean    74.500000     56.907534    52.625532     15.529167    12.026531\n",
      "std     43.445368    572.222221   417.127170    127.459631   131.873447\n",
      "min      0.000000     -4.400000    -3.600000     -4.800000    -2.500000\n",
      "25%     37.250000      5.100000     2.800000      2.725000     0.300000\n",
      "50%     74.500000      5.750000     3.000000      4.500000     1.300000\n",
      "75%    111.750000      6.400000     3.300000      5.100000     1.800000\n",
      "max    149.000000   6900.000000  3809.000000   1400.000000  1600.000000\n"
     ]
    }
   ],
   "source": [
    "import pandas as pd\n",
    "from pandas import Series, DataFrame\n",
    "\n",
    "df = pd.read_csv(\"iris.csv\", sep=',')\n",
    "\n",
    "df = df.drop('flower', axis=1)\n",
    "\n",
    "def update_types(df) -> DataFrame:\n",
    "    for c in df:\n",
    "        df[c] = pd.to_numeric(df[c], errors='coerce')\n",
    "    return df\n",
    "\n",
    "df = update_types(df)\n",
    "\n",
    "# testing\n",
    "# for column in df:\n",
    "#     print(type(df[column]))\n",
    "#     print(type(df[column].values[0]))\n",
    "\n",
    "bad = df.fillna({0:df['sepal_length'].mean(),\n",
    "2:df['sepal_width'].median(),\n",
    "3:0,\n",
    "4:0})\n",
    "\n",
    "print(bad.describe())\n",
    "\n",
    "# print(df)"
   ]
  }
 ],
 "metadata": {
  "kernelspec": {
   "display_name": "Python 3 (ipykernel)",
   "language": "python",
   "name": "python3"
  },
  "language_info": {
   "codemirror_mode": {
    "name": "ipython",
    "version": 3
   },
   "file_extension": ".py",
   "mimetype": "text/x-python",
   "name": "python",
   "nbconvert_exporter": "python",
   "pygments_lexer": "ipython3",
   "version": "3.8.10"
  }
 },
 "nbformat": 4,
 "nbformat_minor": 2
}
