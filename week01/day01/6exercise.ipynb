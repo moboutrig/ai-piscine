{
 "metadata": {
  "language_info": {
   "codemirror_mode": {
    "name": "ipython",
    "version": 3
   },
   "file_extension": ".py",
   "mimetype": "text/x-python",
   "name": "python",
   "nbconvert_exporter": "python",
   "pygments_lexer": "ipython3",
   "version": "3.6.9"
  },
  "orig_nbformat": 2,
  "kernelspec": {
   "name": "python3",
   "display_name": "Python 3.6.9 64-bit",
   "metadata": {
    "interpreter": {
     "hash": "31f2aee4e71d21fbe5cf8b01ff0e069b9275f58929596ceb00d14d90e3e16cd6"
    }
   }
  }
 },
 "nbformat": 4,
 "nbformat_minor": 2,
 "cells": [
  {
   "source": [
    "06 exercice from day 01\n",
    "\n",
    "**The sbuject**:\n",
    "\n",
    "The goal of this exercise is to learn to access values of n-dimensional arrays efficiently.\n",
    "\n",
    "1. Create an 2-dimensional array size 9,9 of 1s. Each value has to be an `int8`.\n",
    "2. Using **slicing**, output this array:\n",
    "\n",
    "    ```python\n",
    "    array([[1, 1, 1, 1, 1, 1, 1, 1, 1],\n",
    "        [1, 0, 0, 0, 0, 0, 0, 0, 1],\n",
    "        [1, 0, 1, 1, 1, 1, 1, 0, 1],\n",
    "        [1, 0, 1, 0, 0, 0, 1, 0, 1],\n",
    "        [1, 0, 1, 0, 1, 0, 1, 0, 1],\n",
    "        [1, 0, 1, 0, 0, 0, 1, 0, 1],\n",
    "        [1, 0, 1, 1, 1, 1, 1, 0, 1],\n",
    "        [1, 0, 0, 0, 0, 0, 0, 0, 1],\n",
    "        [1, 1, 1, 1, 1, 1, 1, 1, 1]], dtype=int8)\n",
    "    ```\n",
    "\n",
    "\n",
    "https://jakevdp.github.io/PythonDataScienceHandbook/02.05-computation-on-arrays-broadcasting.html\n"
   ],
   "cell_type": "markdown",
   "metadata": {}
  },
  {
   "cell_type": "code",
   "execution_count": 32,
   "metadata": {},
   "outputs": [
    {
     "output_type": "stream",
     "name": "stdout",
     "text": [
      "[[1 1 1 1 1 1 1 1 1]\n [1 0 0 0 0 0 0 0 1]\n [1 0 1 1 1 1 1 0 1]\n [1 0 1 0 0 0 1 0 1]\n [1 0 1 0 1 0 1 0 1]\n [1 0 1 0 0 0 1 0 1]\n [1 0 1 1 1 1 1 0 1]\n [1 0 0 0 0 0 0 0 1]\n [1 1 1 1 1 1 1 1 1]]\n"
     ]
    }
   ],
   "source": [
    "import numpy as np\n",
    "\n",
    "# what i thought it was supose to be done \n",
    "# a = np.random.randint(0, 2, size= (9, 9))\n",
    "\n",
    "a = np.ones((9,9), dtype=np.int8)\n",
    "a[1,1:8] = 0\n",
    "a[7,1:8] = 0\n",
    "a[3,3:6] = 0\n",
    "a[5,3:6] = 0\n",
    "a[1:8, 1] = 0\n",
    "a[1:8, 7] = 0\n",
    "a[3:6, 3] = 0\n",
    "a[3:6, 5] = 0\n",
    "\n",
    "# print(a)\n",
    "\n",
    "# light solution\n",
    "\n",
    "# a[1:8,1:8] = 0 \n",
    "# a[2:7,2:7] = 1 \n",
    "# a[3:6,3:6] = 0 \n",
    "# a[4,4] = 1 \n"
   ]
  }
 ]
}