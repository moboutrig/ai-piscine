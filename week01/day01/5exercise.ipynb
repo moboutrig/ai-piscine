{
 "cells": [
  {
   "cell_type": "markdown",
   "metadata": {},
   "source": [
    "# Exercice 5: Split, concatenate, reshape arrays\n",
    "\n",
    "The goal of this exercise is to learn to concatenate and reshape arrays.\n",
    "\n",
    "1. Generate an array with integers from 1 to 50:  `array([1,...,50])`\n",
    "\n",
    "2. Generate an array with integers from 51 to 100:  `array([51,...,100])`\n",
    "\n",
    "3. Using `np.concatenate`, concatenate the two arrays into:  `array([1,...,100])`\n",
    "\n",
    "4. Reshape the previous array into:\n",
    "\n",
    "    ```console\n",
    "    array([[  1,  ... ,  10],\n",
    "                ...\n",
    "        [ 91,  ... , 100]])\n",
    "    ```\n"
   ]
  },
  {
   "cell_type": "code",
   "execution_count": 1,
   "metadata": {},
   "outputs": [
    {
     "name": "stdout",
     "output_type": "stream",
     "text": [
      "[[  1   2   3   4   5   6   7   8   9  10]\n",
      " [ 11  12  13  14  15  16  17  18  19  20]\n",
      " [ 21  22  23  24  25  26  27  28  29  30]\n",
      " [ 31  32  33  34  35  36  37  38  39  40]\n",
      " [ 41  42  43  44  45  46  47  48  49  50]\n",
      " [ 51  52  53  54  55  56  57  58  59  60]\n",
      " [ 61  62  63  64  65  66  67  68  69  70]\n",
      " [ 71  72  73  74  75  76  77  78  79  80]\n",
      " [ 81  82  83  84  85  86  87  88  89  90]\n",
      " [ 91  92  93  94  95  96  97  98  99 100]]\n"
     ]
    }
   ],
   "source": [
    "import numpy as np\n",
    "\n",
    "a = np.arange(1, 51)\n",
    "# print(a)\n",
    "\n",
    "b = np.arange(51, 101) \n",
    "# print(b)\n",
    "\n",
    "# concatenation of arrays\n",
    "c = np.concatenate((a, b), axis=0)\n",
    "\n",
    "# print(c)\n",
    "\n",
    "# reshape c, 10 by 10\n",
    "reshaped = c.reshape(10, 10)\n",
    "\n",
    "print(reshaped)\n"
   ]
  },
  {
   "cell_type": "code",
   "execution_count": null,
   "metadata": {},
   "outputs": [],
   "source": []
  }
 ],
 "metadata": {
  "kernelspec": {
   "display_name": "Python 3",
   "language": "python",
   "name": "python3"
  },
  "language_info": {
   "codemirror_mode": {
    "name": "ipython",
    "version": 3
   },
   "file_extension": ".py",
   "mimetype": "text/x-python",
   "name": "python",
   "nbconvert_exporter": "python",
   "pygments_lexer": "ipython3",
   "version": "3.6.9"
  }
 },
 "nbformat": 4,
 "nbformat_minor": 2
}
