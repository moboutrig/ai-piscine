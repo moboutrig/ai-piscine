{
 "cells": [
  {
   "cell_type": "markdown",
   "id": "03039391",
   "metadata": {},
   "source": [
    "First exercise from day 01\n",
    "\n",
    "**The sbuject**:\n",
    "\n",
    "The goal of this exercise is to use many Python data types in **NumPy** arrays. **NumPy** arrays are intensively used in **NumPy** and **Pandas**. They are flexible and allow to use optimized **NumPy** underlying functions.\n",
    "\n",
    "1. Create a NumPy array that contains: an integer, a float, a string, a dictionary, a list, a tuple, a set and a boolean.\n",
    "\n",
    "The expected output is:\n",
    "\n",
    "```Python\n",
    "for i in your_np_array:\n",
    "    print(type(i))\n",
    "\n",
    "<class 'int'>\n",
    "<class 'float'>\n",
    "<class 'str'>\n",
    "<class 'dict'>\n",
    "<class 'list'>\n",
    "<class 'tuple'>\n",
    "<class 'set'>\n",
    "<class 'bool'>\n",
    "```\n"
   ]
  },
  {
   "cell_type": "code",
   "execution_count": 3,
   "id": "3a99adf7",
   "metadata": {
    "vscode": {
     "languageId": "python"
    }
   },
   "outputs": [
    {
     "name": "stdout",
     "output_type": "stream",
     "text": [
      "Requirement already satisfied: numpy in /home/lee/.local/lib/python3.8/site-packages (1.24.1)\n",
      "[0 1.0 'str' True {'a': 'a'} list([1, 2]) (1, 2) {1}]\n",
      "<class 'int'>\n",
      "<class 'float'>\n",
      "<class 'str'>\n",
      "<class 'bool'>\n",
      "<class 'dict'>\n",
      "<class 'list'>\n",
      "<class 'tuple'>\n",
      "<class 'set'>\n",
      "<class 'numpy.ndarray'>\n"
     ]
    }
   ],
   "source": [
    "!pip3 install numpy\n",
    "\n",
    "import numpy as np\n",
    "\n",
    "arr = np.array([0, 1.0, \"str\", True, { \"a\": \"a\" }, [1, 2], (1, 2), {1}], dtype=object)\n",
    "\n",
    "print(arr)\n",
    "\n",
    "# test\n",
    "for i in arr:\n",
    "    print(type(i))\n",
   
"# Check if your_np_array is a NumPy array\n",
"print(type(your_np_array))\n"
   ]
  },
  {
   "cell_type": "code",
   "execution_count": null,
   "id": "d15bf2f7",
   "metadata": {
    "vscode": {
     "languageId": "python"
    }
   },
   "outputs": [],
   "source": []
  }
 ],
 "metadata": {
  "kernelspec": {
   "display_name": "Python 3 (ipykernel)",
   "language": "python",
   "name": "python3"
  }
 },
 "nbformat": 4,
 "nbformat_minor": 5
}
