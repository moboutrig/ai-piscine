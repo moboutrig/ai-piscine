{
 "cells": [
  {
   "cell_type": "markdown",
   "metadata": {},
   "source": [
    "08 exercice from day 01\n",
    "\n",
    "The sbuject:\n",
    "\n",
    "The goal of this exercise is to learn to perform a basic data analysis on real data using NumPy.\n",
    "\n",
    "The data set that will be used for this exercise is the wine data set.\n",
    "\n",
    "https://archive.ics.uci.edu/ml/datasets/wine+quality\n",
    "\n",
    "How to tell if a given 2D array has null columns?\n",
    "\n",
    "1. Using `genfromtxt` load the data and reduce the size of the numpy array by optimizing the types. The sum of absolute differences between the original data set and the \"memory\" optimized one has to be smaller than 1.10**-3. I suggest to use `np.float32`. Check that the numpy array weights **76800 bytes**.\n",
    "\n",
    "2. Print 2nd, 7th and 12th rows as a two dimensional array\n",
    "\n",
    "3. Is there any wine with a percentage of alcohol greater than 20% ? Return True or False\n",
    "\n",
    "4. What is the average % of alcohol on all wines in the data set ? If needed, drop `np.nan` values\n",
    "\n",
    "5. Compute the minimum, the maximum, the 25th percentile, the 75 percentile, the median of the pH\n",
    "\n",
    "6. Compute the average quality of the wines having the 20% least sulphates\n",
    "\n",
    "7. Compute the mean of all variables for wines having the best quality. Same question for the wines having the worst quality\n"
   ]
  },
  {
   "cell_type": "code",
   "execution_count": 26,
   "metadata": {
    "tags": []
   },
   "outputs": [
    {
     "name": "stdout",
     "output_type": "stream",
     "text": [
      "[[7.800e+00 8.800e-01 0.000e+00 2.600e+00 9.800e-02 2.500e+01 6.700e+01\n",
      "  9.968e-01 3.200e+00 6.800e-01 9.800e+00 5.000e+00]\n",
      " [7.900e+00 6.000e-01 6.000e-02 1.600e+00 6.900e-02 1.500e+01 5.900e+01\n",
      "  9.964e-01 3.300e+00 4.600e-01 9.400e+00 5.000e+00]\n",
      " [7.500e+00 5.000e-01 3.600e-01 6.100e+00 7.100e-02 1.700e+01 1.020e+02\n",
      "  9.978e-01 3.350e+00 8.000e-01 1.050e+01 5.000e+00]]\n",
      "False\n",
      "10.422983114446529\n",
      "min: 2.74\n",
      "max: 4.01\n",
      "25th percentile: 3.21\n",
      "50th percentile: 3.31\n",
      "75 percentile: 3.4\n",
      "median: 3.31\n",
      "5.636420525657071\n"
     ]
    }
   ],
   "source": [
    "import numpy as np\n",
    "\n",
    "# get values from file\n",
    "data_set = np.genfromtxt(\"winequality-red.csv\", delimiter=\";\")\n",
    "\n",
    "# print(data_set)\n",
    "\n",
    "# remove nan s from the array\n",
    "data_set = data_set[~np.isnan(data_set).any(axis=1)]\n",
    "\n",
    "# print(data_set)\n",
    "\n",
    "# print the positions that are in the line 2. of the subject\n",
    "print(data_set[[1,6,11], :])\n",
    "\n",
    "alchoohol = data_set[:, [10]]\n",
    "# line 3.\n",
    "print(np.any(alchoohol==20))\n",
    "\n",
    "# line 4. calculate the average of alchoohol\n",
    "print(np.average(alchoohol))\n",
    "\n",
    "# line 5.\n",
    "ph = data_set[:, [8]]\n",
    "print(\"min:\", np.min(ph))\n",
    "print(\"max:\", np.max(ph))\n",
    "print(\"25th percentile:\", np.percentile(ph, 25))\n",
    "print(\"50th percentile:\", np.percentile(ph, 50))\n",
    "print(\"75 percentile:\", np.percentile(ph, 75))\n",
    "print(\"median:\", np.median(ph))\n",
    "\n",
    "# line 6.\n",
    "sulphates = data_set[:, [9]]\n",
    "leat = np.percentile(sulphates, 20)\n",
    "quality = data_set[:, [11]].flatten()\n",
    "filtered = np.any(sulphates < leat, axis=1)\n",
    "\n",
    "# have to try with out the usage of for loop!!!!!\n",
    "# using where to get the values then subtitute them with 0\n",
    "# filtered_again = quality[np.where(quality < filtered)]\n",
    "# a = np.where()\n",
    "new = np.array([])\n",
    "for i in range(len(quality)):\n",
    "    if filtered[i] :\n",
    "        new = np.delete(quality, i)\n",
    "\n",
    "print(np.average(new))\n",
    "\n",
    "\n"
   ]
  }
 ],
 "metadata": {
  "kernelspec": {
   "display_name": "Python 3 (ipykernel)",
   "language": "python",
   "name": "python3"
  },
  "language_info": {
   "codemirror_mode": {
    "name": "ipython",
    "version": 3
   },
   "file_extension": ".py",
   "mimetype": "text/x-python",
   "name": "python",
   "nbconvert_exporter": "python",
   "pygments_lexer": "ipython3",
   "version": "3.8.10"
  }
 },
 "nbformat": 4,
 "nbformat_minor": 2
}
