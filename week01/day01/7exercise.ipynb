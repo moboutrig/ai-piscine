{
 "cells": [
  {
   "cell_type": "markdown",
   "metadata": {},
   "source": [
    "07 exercice from day 01\n",
    "\n",
    "**The sbuject**:\n",
    "\n",
    "The goal of this exercise is to learn to deal with missing data in NumPy and to manipulate NumPy arrays.\n",
    "\n",
    "Let us consider a 2-dimensional array that contains the grades at the past two exams. Some of the students missed the first exam. As the grade is missing it has been replaced with a `NaN`.\n",
    "\n",
    "1. Using `np.where` create a third column that is equal to the grade of the first exam if it exists and the second else. Add the column as the third column of the array.\n",
    "\n",
    "**Using a for loop or if/else statement is not allowed in this exercise.**\n",
    "\n",
    "```python\n",
    "import numpy as np\n",
    "\n",
    "generator = np.random.default_rng(123)\n",
    "grades = np.round(generator.uniform(low = 0.0, high = 10.0, size = (10, 2)))\n",
    "grades[[1,2,5,7], [0,0,0,0]] = np.nan\n",
    "print(grades)\n",
    "```\n"
   ]
  },
  {
   "cell_type": "code",
   "execution_count": 1,
   "metadata": {},
   "outputs": [
    {
     "name": "stdout",
     "output_type": "stream",
     "text": [
      "[[ 7.  1.]\n",
      " [nan  2.]\n",
      " [nan  8.]\n",
      " [ 9.  3.]\n",
      " [ 8.  9.]\n",
      " [nan  2.]\n",
      " [ 8.  2.]\n",
      " [nan  6.]\n",
      " [ 9.  2.]\n",
      " [ 8.  5.]]\n",
      "[[ 7.  1.  7.]\n",
      " [nan  2.  2.]\n",
      " [nan  8.  8.]\n",
      " [ 9.  3.  9.]\n",
      " [ 8.  9.  8.]\n",
      " [nan  2.  2.]\n",
      " [ 8.  2.  8.]\n",
      " [nan  6.  6.]\n",
      " [ 9.  2.  9.]\n",
      " [ 8.  5.  8.]]\n"
     ]
    }
   ],
   "source": [
    "import numpy as np\n",
    "\n",
    "# providede code\n",
    "\n",
    "generator = np.random.default_rng(123)\n",
    "grades = np.round(generator.uniform(low = 0.0, high = 10.0, size = (10, 2)))\n",
    "grades[[1,2,5,7], [0,0,0,0]] = np.nan\n",
    "print(grades)\n",
    "\n",
    "# student code\n",
    "# np.where method\n",
    "# >>> np.where(a < 5, a, 10*a)\n",
    "a = np.where(np.isnan(grades[:, 0]), grades[:, 1], grades[:, 0])\n",
    "\n",
    "# print(a)\n",
    "\n",
    "# insert the new column \n",
    "# numpy.insert(arr, obj, values, axis=None)\n",
    "result = np.insert(grades, 2, a, 1)\n",
    "\n",
    "print(result)"
   ]
  }
 ],
 "metadata": {
  "kernelspec": {
   "display_name": "Python 3 (ipykernel)",
   "language": "python",
   "name": "python3"
  },
  "language_info": {
   "codemirror_mode": {
    "name": "ipython",
    "version": 3
   },
   "file_extension": ".py",
   "mimetype": "text/x-python",
   "name": "python",
   "nbconvert_exporter": "python",
   "pygments_lexer": "ipython3",
   "version": "3.8.10"
  }
 },
 "nbformat": 4,
 "nbformat_minor": 2
}
