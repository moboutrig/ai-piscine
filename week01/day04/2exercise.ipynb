{
 "cells": [
  {
   "cell_type": "markdown",
   "metadata": {},
   "source": [
    "# Exercise 2 Merge\n",
    "\n",
    "The goal of this exercise is to learn to merge DataFrames\n",
    "The logic of merging DataFrames in Pandas is quite similar as the one used in SQL.\n",
    "\n",
    "Here are the two DataFrames to merge:\n",
    "\n",
    "```python\n",
    "#df1\n",
    "\n",
    "df1_dict = {\n",
    "        'id': ['1', '2', '3', '4', '5'],\n",
    "        'Feature1': ['A', 'C', 'E', 'G', 'I'],\n",
    "        'Feature2': ['B', 'D', 'F', 'H', 'J']}\n",
    "\n",
    "df1 = pd.DataFrame(df1_dict, columns = ['id', 'Feature1', 'Feature2'])\n",
    "\n",
    "#df2\n",
    "df2_dict = {\n",
    "        'id': ['1', '2', '6', '7', '8'],\n",
    "        'Feature1': ['K', 'M', 'O', 'Q', 'S'],\n",
    "        'Feature2': ['L', 'N', 'P', 'R', 'T']}\n",
    "\n",
    "df2 = pd.DataFrame(df2_dict, columns = ['id', 'Feature1', 'Feature2'])\n",
    "```\n",
    "\n",
    "1. Merge the two DataFrames to get this output:\n",
    "\n",
    "    |    |   id | Feature1_x   | Feature2_x   | Feature1_y   | Feature2_y   |\n",
    "    |---:|-----:|:-------------|:-------------|:-------------|:-------------|\n",
    "    |  0 |    1 | A            | B            | K            | L            |\n",
    "    |  1 |    2 | C            | D            | M            | N            |\n",
    "\n",
    "2. Merge the two DataFrames to get this output:\n",
    "\n",
    "    |    |   id | Feature1_df1   | Feature2_df1   | Feature1_df2   | Feature2_df2   |\n",
    "    |---:|-----:|:---------------|:---------------|:---------------|:---------------|\n",
    "    |  0 |    1 | A              | B              | K              | L              |\n",
    "    |  1 |    2 | C              | D              | M              | N              |\n",
    "    |  2 |    3 | E              | F              | nan            | nan            |\n",
    "    |  3 |    4 | G              | H              | nan            | nan            |\n",
    "    |  4 |    5 | I              | J              | nan            | nan            |\n",
    "    |  5 |    6 | nan            | nan            | O              | P              |\n",
    "    |  6 |    7 | nan            | nan            | Q              | R              |\n",
    "    |  7 |    8 | nan            | nan            | S              | T              |\n"
   ]
  },
  {
   "cell_type": "code",
   "execution_count": 38,
   "metadata": {},
   "outputs": [
    {
     "name": "stdout",
     "output_type": "stream",
     "text": [
      "  id Feature1_x Feature2_x Feature1_y Feature2_y\n",
      "0  1          A          B          K          L\n",
      "1  2          C          D          M          N\n",
      "  id Feature1_df1 Feature2_df1 Feature1_df2 Feature2_df2\n",
      "0  1            A            B            K            L\n",
      "1  2            C            D            M            N\n",
      "2  3            E            F          NaN          NaN\n",
      "3  4            G            H          NaN          NaN\n",
      "4  5            I            J          NaN          NaN\n",
      "5  6          NaN          NaN            O            P\n",
      "6  7          NaN          NaN            Q            R\n",
      "7  8          NaN          NaN            S            T\n"
     ]
    }
   ],
   "source": [
    "import pandas as pd\n",
    "from pandas import DataFrame, Series\n",
    "\n",
    "#df1\n",
    "\n",
    "df1_dict = {\n",
    "        'id': ['1', '2', '3', '4', '5'],\n",
    "        'Feature1': ['A', 'C', 'E', 'G', 'I'],\n",
    "        'Feature2': ['B', 'D', 'F', 'H', 'J']}\n",
    "\n",
    "df1 = pd.DataFrame(df1_dict, columns = ['id', 'Feature1', 'Feature2'])\n",
    "\n",
    "#df2\n",
    "df2_dict = {\n",
    "        'id': ['1', '2', '6', '7', '8'],\n",
    "        'Feature1': ['K', 'M', 'O', 'Q', 'S'],\n",
    "        'Feature2': ['L', 'N', 'P', 'R', 'T']}\n",
    "\n",
    "df2 = pd.DataFrame(df2_dict, columns = ['id', 'Feature1', 'Feature2'])\n",
    "\n",
    "print(df1.join(df2.drop(['id'], axis=1), lsuffix='_x', rsuffix='_y').head(2))\n",
    "\n",
    "print(df1.merge(df2, left_on='id', right_on='id', how='outer', suffixes=('_df1', '_df2')))\n"
   ]
  }
 ],
 "metadata": {
  "kernelspec": {
   "display_name": "Python 3",
   "language": "python",
   "name": "python3"
  },
  "language_info": {
   "codemirror_mode": {
    "name": "ipython",
    "version": 3
   },
   "file_extension": ".py",
   "mimetype": "text/x-python",
   "name": "python",
   "nbconvert_exporter": "python",
   "pygments_lexer": "ipython3",
   "version": "3.6.9"
  }
 },
 "nbformat": 4,
 "nbformat_minor": 2
}
