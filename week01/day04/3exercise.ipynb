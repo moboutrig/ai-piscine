{
 "cells": [
  {
   "cell_type": "markdown",
   "metadata": {},
   "source": [
    "\n",
    "## Exercise 3 Merge MultiIndex\n",
    "\n",
    "The goal of this exercise is to learn to merge DataFrames with MultiIndex.\n",
    "Use the code below to generate the DataFrames. `market_data` contains fake market data. In finance, the market is available during the trading days (business days). `alternative_data` contains fake alternative data from social media. This data is available every day. But, for some reasons the Data Engineer lost the last 15 days of alternative data.\n",
    "\n",
    "1. Using `market_data` as the reference, merge `alternative_data` on `market_data`\n",
    "\n",
    "    ```python\n",
    "    #generate days\n",
    "    all_dates = pd.date_range('2021-01-01', '2021-12-15')\n",
    "    business_dates = pd.bdate_range('2021-01-01', '2021-12-31')\n",
    "\n",
    "    #generate tickers\n",
    "    tickers = ['AAPL', 'FB', 'GE', 'AMZN', 'DAI']\n",
    "\n",
    "    #create indexs\n",
    "    index_alt = pd.MultiIndex.from_product([all_dates, tickers], names=['Date', 'Ticker'])\n",
    "    index = pd.MultiIndex.from_product([business_dates, tickers], names=['Date', 'Ticker'])\n",
    "\n",
    "    # create DFs\n",
    "    market_data = pd.DataFrame(index=index,\n",
    "                            data=np.random.randn(len(index), 3),\n",
    "                            columns=['Open','Close','Close_Adjusted'])\n",
    "\n",
    "    alternative_data = pd.DataFrame(index=index_alt,\n",
    "                                    data=np.random.randn(len(index_alt), 2),\n",
    "                                    columns=['Twitter','Reddit'])\n",
    "    ```\n",
    "\n",
    "`reset_index` is not allowed for this question\n",
    "\n",
    "2. Fill missing values with 0\n",
    "\n",
    "https://medium.com/swlh/merging-dataframes-with-pandas-pd-merge-7764c7e2d46d\n"
   ]
  },
  {
   "cell_type": "code",
   "execution_count": 26,
   "metadata": {},
   "outputs": [
    {
     "name": "stdout",
     "output_type": "stream",
     "text": [
      "                       Open     Close  Close_Adjusted   Twitter    Reddit\n",
      "Date       Ticker                                                        \n",
      "2021-01-01 AAPL   -0.643022 -0.391140       -1.340293 -1.539104  2.115985\n",
      "           FB      0.108849 -0.018221       -0.586157 -0.528067 -0.647941\n",
      "           GE      0.268770  0.936013        1.574294  0.076017  1.166889\n",
      "           AMZN    0.698845 -0.409596       -0.290083 -1.280902  0.059501\n",
      "           DAI    -2.513496 -0.444933       -1.767817  1.144982 -0.749478\n",
      "                       Open     Close  Close_Adjusted   Twitter    Reddit\n",
      "Date       Ticker                                                        \n",
      "2021-01-01 AAPL   -0.643022 -0.391140       -1.340293 -1.539104  2.115985\n",
      "           FB      0.108849 -0.018221       -0.586157 -0.528067 -0.647941\n",
      "           GE      0.268770  0.936013        1.574294  0.076017  1.166889\n",
      "           AMZN    0.698845 -0.409596       -0.290083 -1.280902  0.059501\n",
      "           DAI    -2.513496 -0.444933       -1.767817  1.144982 -0.749478\n",
      "...                     ...       ...             ...       ...       ...\n",
      "2021-12-31 AAPL   -0.942417  0.100663       -0.314280  0.000000  0.000000\n",
      "           FB     -0.549001  0.553809       -0.148990  0.000000  0.000000\n",
      "           GE      0.515617 -0.697470        0.909153  0.000000  0.000000\n",
      "           AMZN   -2.402630  0.480916        1.077516  0.000000  0.000000\n",
      "           DAI    -0.135420 -2.433908        0.884584  0.000000  0.000000\n",
      "\n",
      "[1305 rows x 5 columns]\n"
     ]
    },
    {
     "data": {
      "text/plain": [
       "True"
      ]
     },
     "execution_count": 26,
     "metadata": {},
     "output_type": "execute_result"
    }
   ],
   "source": [
    "import pandas as pd\n",
    "import numpy as np\n",
    "from pandas import DataFrame, Series\n",
    "\n",
    "#generate days\n",
    "all_dates = pd.date_range('2021-01-01', '2021-12-15')\n",
    "business_dates = pd.bdate_range('2021-01-01', '2021-12-31')\n",
    "\n",
    "#generate tickers\n",
    "tickers = ['AAPL', 'FB', 'GE', 'AMZN', 'DAI']\n",
    "\n",
    "#create indexs\n",
    "index_alt = pd.MultiIndex.from_product([all_dates, tickers], names=['Date', 'Ticker'])\n",
    "index = pd.MultiIndex.from_product([business_dates, tickers], names=['Date', 'Ticker'])\n",
    "\n",
    "# create DFs\n",
    "market_data = pd.DataFrame(index=index,\n",
    "                        data=np.random.randn(len(index), 3),\n",
    "                        columns=['Open','Close','Close_Adjusted'])\n",
    "\n",
    "alternative_data = pd.DataFrame(index=index_alt,\n",
    "                                data=np.random.randn(len(index_alt), 2),\n",
    "                                columns=['Twitter','Reddit'])\n",
    "merged = market_data.merge(alternative_data, how='left', left_index=True, right_index=True)\n",
    "# teting\n",
    "print(merged.head())\n",
    "\n",
    "# 2.\n",
    "filled_df = merged.fillna(0)\n",
    "# testing\n",
    "filled_df.sum().sum() == merged.sum().sum()"
   ]
  }
 ],
 "metadata": {
  "kernelspec": {
   "display_name": "Python 3",
   "language": "python",
   "name": "python3"
  },
  "language_info": {
   "codemirror_mode": {
    "name": "ipython",
    "version": 3
   },
   "file_extension": ".py",
   "mimetype": "text/x-python",
   "name": "python",
   "nbconvert_exporter": "python",
   "pygments_lexer": "ipython3",
   "version": "3.6.9"
  }
 },
 "nbformat": 4,
 "nbformat_minor": 2
}
