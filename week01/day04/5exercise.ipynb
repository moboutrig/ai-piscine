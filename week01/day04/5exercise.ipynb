{
 "cells": [
  {
   "cell_type": "markdown",
   "metadata": {},
   "source": [
    "\n",
    "# Exercise 5 Groupby Agg\n",
    "\n",
    "The goal of this exercise is to learn to compute different type of aggregations on the groups. This small DataFrame contains products and prices.\n",
    "\n",
    "|    |   value | product      |\n",
    "|---:|--------:|:-------------|\n",
    "|  0 |   20.45 | table        |\n",
    "|  1 |   22.89 | chair        |\n",
    "|  2 |   32.12 | chair        |\n",
    "|  3 |  111.22 | mobile phone |\n",
    "|  4 |   33.22 | table        |\n",
    "|  5 |  100    | mobile phone |\n",
    "|  6 |   99.99 | table        |\n",
    "\n",
    "1. Compute the min, max and mean price for each product in one single line of code. The expected output is: \n",
    "\n",
    "| product      |   ('value', 'min') |   ('value', 'max') |   ('value', 'mean') |\n",
    "|:-------------|-------------------:|-------------------:|--------------------:|\n",
    "| chair        |              22.89 |              32.12 |              27.505 |\n",
    "| mobile phone |             100    |             111.22 |             105.61  |\n",
    "| table        |              20.45 |              99.99 |              51.22  |\n",
    "\n",
    "Note: The columns don't have to be MultiIndex\n"
   ]
  },
  {
   "cell_type": "code",
   "execution_count": 18,
   "metadata": {},
   "outputs": [
    {
     "name": "stdout",
     "output_type": "stream",
     "text": [
      "| product      |   ('value', 'min') |   ('value', 'max') |   ('value', 'mean') |\n",
      "|:-------------|-------------------:|-------------------:|--------------------:|\n",
      "| chair        |              22.89 |              32.12 |              27.505 |\n",
      "| mobile phone |             100    |             111.22 |             105.61  |\n",
      "| table        |              20.45 |              99.99 |              51.22  |\n"
     ]
    }
   ],
   "source": [
    "import pandas as pd\n",
    "from pandas import DataFrame, Series\n",
    "import numpy as np\n",
    "\n",
    "disc = {\n",
    "    'product': ['table', 'chair', 'chair', 'mobile phone', 'table', 'mobile phone', 'table'],\n",
    "    'value' : [20.45, 22.89, 32.12, 111.22, 33.22, 100, 99.99]\n",
    "}\n",
    "\n",
    "df = DataFrame(disc,columns=['value', 'product'])\n",
    "\n",
    "# 1.\n",
    "print(df.groupby('product').agg({'value': ['min', 'max', 'mean']}).to_markdown())\n"
   ]
  }
 ],
 "metadata": {
  "kernelspec": {
   "display_name": "Python 3",
   "language": "python",
   "name": "python3"
  },
  "language_info": {
   "codemirror_mode": {
    "name": "ipython",
    "version": 3
   },
   "file_extension": ".py",
   "mimetype": "text/x-python",
   "name": "python",
   "nbconvert_exporter": "python",
   "pygments_lexer": "ipython3",
   "version": "3.6.9"
  }
 },
 "nbformat": 4,
 "nbformat_minor": 2
}
