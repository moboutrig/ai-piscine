{
 "cells": [
  {
   "cell_type": "markdown",
   "metadata": {},
   "source": [
    "\n",
    "# Exercise 1 Pandas plot 1\n",
    "\n",
    "The goal of this exercise is to learn to create plots with use Pandas. Panda's `.plot()` is a wrapper for `matplotlib.pyplot.plot()`.\n",
    "\n",
    "Here is the data we will be using:\n",
    "\n",
    "```python\n",
    "        df = pd.DataFrame({\n",
    "        'name':['christopher','marion','maria','mia','clement','randy','remi'],\n",
    "        'age':[70,30,22,19,45,33,20],\n",
    "        'gender':['M','F','F','F','M','M','M'],\n",
    "        'state':['california','dc','california','dc','california','new york','porto'],\n",
    "        'num_children':[2,0,0,3,8,1,4],\n",
    "        'num_pets':[5,1,0,5,2,2,3]\n",
    "        })\n",
    "```\n",
    "\n",
    "1. Reproduce this plot. This plot is called a bar plot\n",
    "\n",
    "![alt text][logo]\n",
    "\n",
    "[logo]: images/day03/w1day03_ex1_plot1.png \"Bar plot ex1\"\n",
    "\n",
    "The plot has to contain:\n",
    "\n",
    "- the title\n",
    "- name on x-axis\n",
    "- legend\n"
   ]
  },
  {
   "cell_type": "code",
   "execution_count": null,
   "metadata": {},
   "outputs": [
    {
     "ename": "",
     "evalue": "",
     "output_type": "error",
     "traceback": [
      "\u001b[1;31mRunning cells with '/usr/bin/python' requires ipykernel package.\n",
      "\u001b[1;31mRun the following command to install 'ipykernel' into the Python environment. \n",
      "\u001b[1;31mCommand: '/usr/bin/python -m pip install ipykernel -U --user --force-reinstall'"
     ]
    }
   ],
   "source": [
    "!pip3 install matplotlib pandas\n",
    "\n",
    "import pandas as pd\n",
    "from pandas import Series, DataFrame\n",
    "import matplotlib.pyplot as plt\n",
    "\n",
    "df = pd.DataFrame({\n",
    "'name':['christopher','marion','maria','mia','clement','randy','remi'],\n",
    "'age':[70,30,22,19,45,33,20],\n",
    "'gender':['M','F','F','F','M','M','M'],\n",
    "'state':['california','dc','california','dc','california','new york','porto'],\n",
    "'num_children':[2,0,0,3,8,1,4],\n",
    "'num_pets':[5,1,0,5,2,2,3]\n",
    "})\n",
    "\n",
    "t11 = ['00', '01', '02', '03', '04', '05', '10', '11', '12', '13', '14', '15',\n",
    "       '20', '21', '22', '23', '24', '25', '30', '31', '32', '33', '34', '35',\n",
    "       '40', '41', '42', '43', '44', '45', '50', '51', '52', '53', '54', '55']\n",
    "\n",
    "t12 = [173, 135, 141, 148, 140, 149, 152, 178, 135, 96, 109, 164, 137, 152,\n",
    "       172, 149, 93, 78, 116, 81, 149, 202, 172, 99, 134, 85, 104, 172, 177,\n",
    "       150, 130, 131, 111, 99, 143, 194]\n",
    "\n",
    "print(df)\n",
    "\n",
    "plt.bar(range(len(df['age'])), df['age'], align='center')\n",
    "plt.xticks(range(len(df['name'])), df['name'], size='small')\n",
    "plt.xlabel('names')\n",
    "plt.title('Histogram')\n",
    "plt.legend(['age'])\n",
    "plt.show()\n"
   ]
  }
 ],
 "metadata": {
  "kernelspec": {
   "display_name": "Python 3",
   "language": "python",
   "name": "python3"
  },
  "language_info": {
   "codemirror_mode": {
    "name": "ipython",
    "version": 3
   },
   "file_extension": ".py",
   "mimetype": "text/x-python",
   "name": "python",
   "nbconvert_exporter": "python",
   "pygments_lexer": "ipython3",
   "version": "2.7.18 (default, Jul  1 2022, 12:27:04) \n[GCC 9.4.0]"
  },
  "vscode": {
   "interpreter": {
    "hash": "767d51c1340bd893661ea55ea3124f6de3c7a262a8b4abca0554b478b1e2ff90"
   }
  }
 },
 "nbformat": 4,
 "nbformat_minor": 2
}
