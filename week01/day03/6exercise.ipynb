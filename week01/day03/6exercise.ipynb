{
 "metadata": {
  "language_info": {
   "codemirror_mode": {
    "name": "ipython",
    "version": 3
   },
   "file_extension": ".py",
   "mimetype": "text/x-python",
   "name": "python",
   "nbconvert_exporter": "python",
   "pygments_lexer": "ipython3",
   "version": 3
  },
  "orig_nbformat": 2
 },
 "nbformat": 4,
 "nbformat_minor": 2,
 "cells": [
  {
   "source": [
    "# Exercice 6 Plotly 1\n",
    "\n",
    "Plotly has evolved a lot in the previous years. It is important to **always check the documentation**.\n",
    "\n",
    "Plotly comes with a high level interface: Plotly Express. It helps building some complex plots easily. The lesson won't detail the complex examples. Plotly express is quite interesting while using Pandas Dataframes because there are some built-in functions that leverage Pandas Dataframes.\n",
    "\n",
    "The plot output by Plotly is interactive and can also be dynamic.\n",
    "\n",
    "The goal of the exercise is to plot the price of a company. Its price is generated below.\n",
    "\n",
    "```python\n",
    "returns = np.random.randn(50)\n",
    "price = 100 + np.cumsum(returns)\n",
    "\n",
    "dates = pd.date_range(start='2020-09-01', periods=50, freq='B')\n",
    "df = pd.DataFrame(zip(dates, price),\n",
    "                  columns=['Date','Company_A'])\n",
    "```\n",
    "\n",
    "1. Using Plotly express, reproduce the plot in the image. As the data is generated randomly I do not expect you to reproduce the same line.\n",
    "\n",
    "![alt text][logo_ex6]\n",
    "\n",
    "[logo_ex6]: images/day03/w1day03_ex6_plot1.png \"Time series ex6\"\n",
    "\n",
    "The plot has to contain:\n",
    "\n",
    "- title\n",
    "- x-axis name\n",
    "- yaxis name\n",
    "\n",
    "2. Same question but now using `plotly.graph_objects`. You may need to use `init_notebook_mode` from `plotly.offline`.\n",
    "\n",
    "https://plotly.com/python/time-series/e\n"
   ],
   "cell_type": "markdown",
   "metadata": {}
  },
  {
   "cell_type": "code",
   "execution_count": null,
   "metadata": {},
   "outputs": [],
   "source": [
    "import matplotlib.pyplot as plt\n",
    "\n"
   ]
  }
 ]
}