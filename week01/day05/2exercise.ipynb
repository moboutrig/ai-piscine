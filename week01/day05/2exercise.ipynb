{
 "cells": [
  {
   "cell_type": "markdown",
   "metadata": {},
   "source": [
    "# Exercise 2\n",
    "\n",
    "The goal of this exercise is to learn to use Pandas on Time Series an on Financial data.\n",
    "\n",
    "The data we will use is Apple stock.\n",
    "\n",
    "1. Using `Plotly` plot a Candlestick\n",
    "\n",
    "2. Aggregate the data to **last business day of each month**. The aggregation should consider the meaning of the variables. How many months are in the considered period ?\n",
    "\n",
    "3. When comparing many stocks between them the metric which is frequently used is the return of the price. The price is not a convenient metric as the prices evolve in different ranges. The return at time t is defined as\n",
    "\n",
    "- (Price(t) - Price(t-1))/ Price(t-1)\n",
    "\n",
    "Using the open price compute the **daily return**. Propose two different ways **without for loop**.\n"
   ]
  },
  {
   "cell_type": "code",
   "execution_count": 20,
   "metadata": {},
   "outputs": [
    {
     "output_type": "stream",
     "name": "stdout",
     "text": [
      "Open         0\nHigh         0\nLow          0\nClose        0\nAdj Close    0\nVolume       0\ndtype: int64\n               Open          High           Low         Close     Adj Close  \\\ncount  10118.000000  10118.000000  10118.000000  10118.000000  10118.000000   \nmean      10.160287     10.270756     10.048267     10.163447      9.612853   \nstd       20.235232     20.476322     19.989577     20.242380     19.915597   \nmin        0.049665      0.049665      0.049107      0.049107      0.038671   \n25%        0.272321      0.279018      0.265625      0.272321      0.230952   \n50%        0.444196      0.450893      0.435268      0.444196      0.371715   \n75%       11.668125     11.785982     11.602500     11.651339     10.051035   \nmax      143.600006    145.089996    141.369995    143.160004    143.160004   \n\n             Volume  \ncount  1.011800e+04  \nmean   3.391601e+08  \nstd    3.416050e+08  \nmin    1.388800e+06  \n25%    1.305304e+08  \n50%    2.266264e+08  \n75%    4.220706e+08  \nmax    7.421641e+09  \n------------------------\n| Date                |     Open |     High |      Low |    Close |   Adj Close |      Volume |\n|:--------------------|---------:|---------:|---------:|---------:|------------:|------------:|\n| 1980-12-31 00:00:00 | 0.136075 | 0.136461 | 0.135903 | 0.135903 |   0.107022  | 1.0345e+08  |\n| 1981-01-30 00:00:00 | 0.141768 | 0.142086 | 0.141316 | 0.141316 |   0.111285  | 2.89995e+07 |\n| 1981-02-27 00:00:00 | 0.118215 | 0.118627 | 0.117892 | 0.117892 |   0.092839  | 1.69273e+07 |\n| 1981-03-31 00:00:00 | 0.111328 | 0.111683 | 0.110871 | 0.110871 |   0.0873101 | 3.18508e+07 |\n| 1981-04-30 00:00:00 | 0.121811 | 0.122183 | 0.121545 | 0.121545 |   0.0957159 | 2.5568e+07  |\n482 months\nDate\n1980-12-12         NaN\n1980-12-15   -0.047823\n1980-12-16   -0.073063\n1980-12-17    0.019703\n1980-12-18    0.028992\n                ...   \n2021-01-25    0.049824\n2021-01-26    0.003704\n2021-01-27   -0.001184\n2021-01-28   -0.027261\n2021-01-29   -0.026448\nName: Open, Length: 10118, dtype: float64\n"
     ]
    }
   ],
   "source": [
    "import pandas as pd\n",
    "from pandas import DataFrame, Series\n",
    "import plotly.graph_objects as go\n",
    "\n",
    "\n",
    "df = pd.read_csv('AAPL.csv')\n",
    "df['Date'] =  pd.to_datetime(df['Date'])\n",
    "df = df.set_index('Date')\n",
    "\n",
    "# delete missing values\n",
    "df.dropna(inplace=True)\n",
    "\n",
    "# check if the values are their\n",
    "print(df.isnull().sum())\n",
    "\n",
    "# see the description of the values\n",
    "print(df.describe())\n",
    "\n",
    "\n",
    "# Date,Open,High,Low,Close,Adj Close,Volume\n",
    "\n",
    "fig = go.Figure(data=[go.Candlestick(x=df.index,\n",
    "                open=df['Open'], high=df['High'],\n",
    "                low=df['Low'], close=df['Close'])\n",
    "                      ])\n",
    "\n",
    "fig.update_layout(\n",
    "    title='The Great Recession',\n",
    "    yaxis_title='AAPL Stock',\n",
    "    shapes = [dict(\n",
    "        x0='2016-12-09', x1='2016-12-09', y0=0, y1=1, xref='x', yref='paper',\n",
    "        line_width=2)],\n",
    "    annotations=[dict(\n",
    "        x='2016-12-09', y=0.05, xref='x', yref='paper',\n",
    "        showarrow=False, xanchor='left', text='Increase Period Begins')]\n",
    ")\n",
    "\n",
    "# fig.show()\n",
    "\n",
    "# 2.\n",
    "print('------------------------')\n",
    "frist_day = df.resample('BM').mean()\n",
    "# testing\n",
    "print(frist_day.head().to_markdown()) \n",
    "print(len(frist_day.index), 'months')\n",
    "\n",
    "# 3.\n",
    "print(df['Open'].pct_change())"
   ]
  }
 ],
 "metadata": {
  "kernelspec": {
   "display_name": "Python 3",
   "language": "python",
   "name": "python3"
  },
  "language_info": {
   "codemirror_mode": {
    "name": "ipython",
    "version": 3
   },
   "file_extension": ".py",
   "mimetype": "text/x-python",
   "name": "python",
   "nbconvert_exporter": "python",
   "pygments_lexer": "ipython3",
   "version": "3.6.9"
  }
 },
 "nbformat": 4,
 "nbformat_minor": 2
}