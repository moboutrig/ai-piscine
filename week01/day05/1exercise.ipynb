{
 "cells": [
  {
   "cell_type": "markdown",
   "metadata": {},
   "source": [
    "# Exercise 1\n",
    "\n",
    "The goal of this exercise is to learn to manipulate time series in Pandas.\n",
    "\n",
    "1. Create a `Series` named `integer_series`from 1st January 2010 to 31 December 2020. At each date is associated the number of days since 1st January 2010. It starts with 0.\n",
    "\n",
    "2. Using Pandas, compute a 7 days moving average. This transformation smooths the time series by removing small fluctuations.   **without for loop**\n"
   ]
  },
  {
   "cell_type": "code",
   "execution_count": 22,
   "metadata": {},
   "outputs": [
    {
     "name": "stdout",
     "output_type": "stream",
     "text": [
      "2010-01-01       0\n",
      "2010-01-02       1\n",
      "2010-01-03       2\n",
      "2010-01-04       3\n",
      "2010-01-05       4\n",
      "              ... \n",
      "2020-12-27    4013\n",
      "2020-12-28    4014\n",
      "2020-12-29    4015\n",
      "2020-12-30    4016\n",
      "2020-12-31    4017\n",
      "Freq: D, Length: 4018, dtype: int64\n",
      "2010-01-01       NaN\n",
      "2010-01-02       NaN\n",
      "2010-01-03       NaN\n",
      "2010-01-04       NaN\n",
      "2010-01-05       NaN\n",
      "               ...  \n",
      "2020-12-27    4010.0\n",
      "2020-12-28    4011.0\n",
      "2020-12-29    4012.0\n",
      "2020-12-30    4013.0\n",
      "2020-12-31    4014.0\n",
      "Freq: D, Length: 4018, dtype: float64\n"
     ]
    }
   ],
   "source": [
    "import pandas as pd\n",
    "from pandas import DataFrame, Series\n",
    "\n",
    "# 1.\n",
    "dates = pd.date_range('01-01-2010', '31-12-2020')\n",
    "integer_series = Series(range(0, len(dates)), index=dates)\n",
    "\n",
    "# test\n",
    "print(integer_series)\n",
    "\n",
    "# 2.\n",
    "a = integer_series.rolling(7).mean()\n",
    "\n",
    "# testing\n",
    "print(a)"
   ]
  }
 ],
 "metadata": {
  "kernelspec": {
   "display_name": "Python 3",
   "language": "python",
   "name": "python3"
  },
  "language_info": {
   "codemirror_mode": {
    "name": "ipython",
    "version": 3
   },
   "file_extension": ".py",
   "mimetype": "text/x-python",
   "name": "python",
   "nbconvert_exporter": "python",
   "pygments_lexer": "ipython3",
   "version": "3.6.9"
  }
 },
 "nbformat": 4,
 "nbformat_minor": 2
}
