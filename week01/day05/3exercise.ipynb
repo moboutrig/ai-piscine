{
 "metadata": {
  "language_info": {
   "codemirror_mode": {
    "name": "ipython",
    "version": 3
   },
   "file_extension": ".py",
   "mimetype": "text/x-python",
   "name": "python",
   "nbconvert_exporter": "python",
   "pygments_lexer": "ipython3",
   "version": "3.6.9"
  },
  "orig_nbformat": 2,
  "kernelspec": {
   "name": "python3",
   "display_name": "Python 3.6.9 64-bit",
   "metadata": {
    "interpreter": {
     "hash": "31f2aee4e71d21fbe5cf8b01ff0e069b9275f58929596ceb00d14d90e3e16cd6"
    }
   }
  }
 },
 "nbformat": 4,
 "nbformat_minor": 2,
 "cells": [
  {
   "source": [
    "\n",
    "# Exercise 3 Multi asset returns\n",
    "\n",
    "The goal of this exercise is to learn to compute daily returns on a DataFrame that contains many assets (multi-assets).\n",
    "\n",
    "```python\n",
    "business_dates = pd.bdate_range('2021-01-01', '2021-12-31')\n",
    "\n",
    "#generate tickers\n",
    "tickers = ['AAPL', 'FB', 'GE', 'AMZN', 'DAI']\n",
    "\n",
    "#create indexs\n",
    "index = pd.MultiIndex.from_product([business_dates, tickers], names=['Date', 'Ticker'])\n",
    "\n",
    "# create DFs\n",
    "market_data = pd.DataFrame(index=index,\n",
    "                        data=np.random.randn(len(index), 1),\n",
    "                        columns=['Price'])\n",
    "```\n",
    "\n",
    "1. **Without using a for loop**, compute the daily returns (return(d) = (price(d)-price(d-1))/price(d-1)) for all the companies and returns a DataFrame as:\n",
    "\n",
    "| Date                |   ('Price', 'AAPL') |   ('Price', 'AMZN') |   ('Price', 'DAI') |   ('Price', 'FB') |   ('Price', 'GE') |\n",
    "|:--------------------|--------------------:|--------------------:|-------------------:|------------------:|------------------:|\n",
    "| 2021-01-01 00:00:00 |          nan        |         nan         |          nan       |        nan        |         nan       |\n",
    "| 2021-01-04 00:00:00 |            1.01793  |           0.0512955 |            3.84709 |         -0.503488 |           0.33529 |\n",
    "| 2021-01-05 00:00:00 |           -0.222884 |          -1.64623   |           -0.71817 |         -5.5036   |          -4.15882 |\n",
    "\n",
    "Note: The data is generated randomly, the values you may have a different results. But, this shows the expected DataFrame structure. \n",
    "\n",
    "`Hint use groupby`\n"
   ],
   "cell_type": "markdown",
   "metadata": {}
  },
  {
   "cell_type": "code",
   "execution_count": 5,
   "metadata": {},
   "outputs": [
    {
     "output_type": "stream",
     "name": "stdout",
     "text": [
      "                      Price\nDate       Ticker          \n2021-01-01 AAPL   -0.100405\n           FB     -0.143464\n           GE      0.642718\n           AMZN   -0.076452\n           DAI    -0.944958\n...                     ...\n2021-12-31 AAPL    1.132628\n           FB      0.305159\n           GE      1.821542\n           AMZN    0.959896\n           DAI     1.748275\n\n[1305 rows x 1 columns]\n                      Price\nDate       Ticker          \n2021-01-01 AAPL         NaN\n2021-01-04 AAPL   -1.943294\n2021-01-05 AAPL   -9.186860\n2021-01-06 AAPL   -1.395002\n2021-01-07 AAPL   -0.032793\n...                     ...\n2021-12-27 AAPL   -1.172434\n2021-12-28 AAPL   -3.118556\n2021-12-29 AAPL   -1.643069\n2021-12-30 AAPL   -3.000535\n2021-12-31 AAPL    0.496320\n\n[261 rows x 1 columns]\n|                                            |     Price |\n|:-------------------------------------------|----------:|\n| (Timestamp('2021-01-01 00:00:00'), 'AAPL') | nan       |\n| (Timestamp('2021-01-04 00:00:00'), 'AAPL') |  -1.94329 |\n| (Timestamp('2021-01-05 00:00:00'), 'AAPL') |  -9.18686 |\n"
     ]
    }
   ],
   "source": [
    "import pandas as pd\n",
    "from pandas import DataFrame, Series\n",
    "import numpy as np\n",
    "\n",
    "business_dates = pd.bdate_range('2021-01-01', '2021-12-31')\n",
    "\n",
    "#generate tickers\n",
    "tickers = ['AAPL', 'FB', 'GE', 'AMZN', 'DAI']\n",
    "\n",
    "#create indexs\n",
    "index = pd.MultiIndex.from_product([business_dates, tickers], names=['Date', 'Ticker'])\n",
    "\n",
    "# create DFs\n",
    "market_data = pd.DataFrame(index=index,\n",
    "                        data=np.random.randn(len(index), 1),\n",
    "                        columns=['Price'])\n",
    "\n",
    "# 1.\n",
    "print(market_data)\n",
    "a = market_data.loc[market_data.index.get_level_values('Ticker')=='AAPL'].sort_index().pct_change()\n",
    "print(a)\n",
    "print(a.head(3).to_markdown())\n"
   ]
  }
 ]
}